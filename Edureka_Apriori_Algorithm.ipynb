{
  "nbformat": 4,
  "nbformat_minor": 0,
  "metadata": {
    "colab": {
      "provenance": [],
      "authorship_tag": "ABX9TyNPJCLHQrsRT5SSoQ+Mp5kj",
      "include_colab_link": true
    },
    "kernelspec": {
      "name": "python3",
      "display_name": "Python 3"
    },
    "language_info": {
      "name": "python"
    }
  },
  "cells": [
    {
      "cell_type": "markdown",
      "metadata": {
        "id": "view-in-github",
        "colab_type": "text"
      },
      "source": [
        "<a href=\"https://colab.research.google.com/github/IshaSarangi/Edureka_Notes/blob/main/Edureka_Apriori_Algorithm.ipynb\" target=\"_parent\"><img src=\"https://colab.research.google.com/assets/colab-badge.svg\" alt=\"Open In Colab\"/></a>"
      ]
    },
    {
      "cell_type": "markdown",
      "source": [
        "https://colab.research.google.com/drive/1wi_sCqwwnSBsQc6frGQpKOSOnos6UnNC?usp=sharing"
      ],
      "metadata": {
        "id": "_5_ORSyvobSE"
      }
    },
    {
      "cell_type": "markdown",
      "source": [
        "https://pypi.org/project/apyori/"
      ],
      "metadata": {
        "id": "s5fPaAZtqBmS"
      }
    },
    {
      "cell_type": "code",
      "execution_count": 1,
      "metadata": {
        "colab": {
          "base_uri": "https://localhost:8080/"
        },
        "id": "HopFAuaHoXXJ",
        "outputId": "f10a0498-0bee-4d87-fe92-ed64c4b5e84a"
      },
      "outputs": [
        {
          "output_type": "stream",
          "name": "stdout",
          "text": [
            "Collecting apyori\n",
            "  Downloading apyori-1.1.2.tar.gz (8.6 kB)\n",
            "  Preparing metadata (setup.py) ... \u001b[?25l\u001b[?25hdone\n",
            "Building wheels for collected packages: apyori\n",
            "  Building wheel for apyori (setup.py) ... \u001b[?25l\u001b[?25hdone\n",
            "  Created wheel for apyori: filename=apyori-1.1.2-py3-none-any.whl size=5954 sha256=94c4d5e33616025bf40ddacaa72f6281276e9e8461ace012c5774c11d2ef7408\n",
            "  Stored in directory: /root/.cache/pip/wheels/77/3d/a6/d317a6fb32be58a602b1e8c6b5d6f31f79322da554cad2a5ea\n",
            "Successfully built apyori\n",
            "Installing collected packages: apyori\n",
            "Successfully installed apyori-1.1.2\n"
          ]
        }
      ],
      "source": [
        "!pip install apyori"
      ]
    },
    {
      "cell_type": "code",
      "source": [
        "#Import Libraries\n",
        "import numpy as np\n",
        "import pandas as pd\n",
        "from apyori import apriori"
      ],
      "metadata": {
        "id": "5YwLBA9LqHYj"
      },
      "execution_count": 2,
      "outputs": []
    },
    {
      "cell_type": "code",
      "source": [
        "#Read Data\n",
        "#Not a recommended way of reading this dataset\n",
        "df = pd.read_csv('/content/store_data.csv')\n",
        "print(df.head())"
      ],
      "metadata": {
        "colab": {
          "base_uri": "https://localhost:8080/"
        },
        "id": "9NXjJneDqcJW",
        "outputId": "1281c857-d055-432c-dd7d-e99eae640e53"
      },
      "execution_count": 6,
      "outputs": [
        {
          "output_type": "stream",
          "name": "stdout",
          "text": [
            "           shrimp    almonds     avocado    vegetables mix green grapes  \\\n",
            "0         burgers  meatballs        eggs               NaN          NaN   \n",
            "1         chutney        NaN         NaN               NaN          NaN   \n",
            "2          turkey    avocado         NaN               NaN          NaN   \n",
            "3   mineral water       milk  energy bar  whole wheat rice    green tea   \n",
            "4  low fat yogurt        NaN         NaN               NaN          NaN   \n",
            "\n",
            "  whole weat flour yams cottage cheese energy drink tomato juice  \\\n",
            "0              NaN  NaN            NaN          NaN          NaN   \n",
            "1              NaN  NaN            NaN          NaN          NaN   \n",
            "2              NaN  NaN            NaN          NaN          NaN   \n",
            "3              NaN  NaN            NaN          NaN          NaN   \n",
            "4              NaN  NaN            NaN          NaN          NaN   \n",
            "\n",
            "  low fat yogurt green tea honey salad mineral water salmon antioxydant juice  \\\n",
            "0            NaN       NaN   NaN   NaN           NaN    NaN               NaN   \n",
            "1            NaN       NaN   NaN   NaN           NaN    NaN               NaN   \n",
            "2            NaN       NaN   NaN   NaN           NaN    NaN               NaN   \n",
            "3            NaN       NaN   NaN   NaN           NaN    NaN               NaN   \n",
            "4            NaN       NaN   NaN   NaN           NaN    NaN               NaN   \n",
            "\n",
            "  frozen smoothie spinach  olive oil  \n",
            "0             NaN     NaN        NaN  \n",
            "1             NaN     NaN        NaN  \n",
            "2             NaN     NaN        NaN  \n",
            "3             NaN     NaN        NaN  \n",
            "4             NaN     NaN        NaN  \n"
          ]
        }
      ]
    },
    {
      "cell_type": "code",
      "source": [
        "print(df.shape)"
      ],
      "metadata": {
        "colab": {
          "base_uri": "https://localhost:8080/"
        },
        "id": "IN_oBZXDqtfP",
        "outputId": "c60e3266-caf3-45ec-e8a5-56cb869a018b"
      },
      "execution_count": 7,
      "outputs": [
        {
          "output_type": "stream",
          "name": "stdout",
          "text": [
            "(7500, 20)\n"
          ]
        }
      ]
    },
    {
      "cell_type": "code",
      "source": [
        "#Native/Fundamental way of reading data\n",
        "file_obj = open('/content/store_data.csv', 'rt')\n",
        "store_data = file_obj.readlines()\n",
        "file_obj.close()\n"
      ],
      "metadata": {
        "id": "6wcvWQnhrH2m"
      },
      "execution_count": 8,
      "outputs": []
    },
    {
      "cell_type": "code",
      "source": [
        "store_data[:5]"
      ],
      "metadata": {
        "colab": {
          "base_uri": "https://localhost:8080/"
        },
        "id": "v7xFl4inr4lo",
        "outputId": "ad6826e4-5a3d-4312-c545-deaa0341573c"
      },
      "execution_count": 9,
      "outputs": [
        {
          "output_type": "execute_result",
          "data": {
            "text/plain": [
              "['shrimp,almonds,avocado,vegetables mix,green grapes,whole weat flour,yams,cottage cheese,energy drink,tomato juice,low fat yogurt,green tea,honey,salad,mineral water,salmon,antioxydant juice,frozen smoothie,spinach,olive oil\\n',\n",
              " 'burgers,meatballs,eggs\\n',\n",
              " 'chutney\\n',\n",
              " 'turkey,avocado\\n',\n",
              " 'mineral water,milk,energy bar,whole wheat rice,green tea\\n']"
            ]
          },
          "metadata": {},
          "execution_count": 9
        }
      ]
    },
    {
      "cell_type": "code",
      "source": [
        "'mineral water,milk,energy bar,whole wheat rice,green tea\\n'.strip().split(',')"
      ],
      "metadata": {
        "colab": {
          "base_uri": "https://localhost:8080/"
        },
        "id": "l7rrZvmtsIlp",
        "outputId": "c47b989a-dd0b-4422-e442-d021dc2d3de3"
      },
      "execution_count": 11,
      "outputs": [
        {
          "output_type": "execute_result",
          "data": {
            "text/plain": [
              "['mineral water', 'milk', 'energy bar', 'whole wheat rice', 'green tea']"
            ]
          },
          "metadata": {},
          "execution_count": 11
        }
      ]
    },
    {
      "cell_type": "code",
      "source": [
        "store_data_processed = [x.strip() for x in store_data]"
      ],
      "metadata": {
        "id": "y_Jcjfxitcas"
      },
      "execution_count": 12,
      "outputs": []
    },
    {
      "cell_type": "code",
      "source": [
        "print(store_data_processed[:5])"
      ],
      "metadata": {
        "colab": {
          "base_uri": "https://localhost:8080/"
        },
        "id": "-vNrNhD-tjMR",
        "outputId": "12d66e53-e703-43c6-c84b-1d94b9929ed0"
      },
      "execution_count": 13,
      "outputs": [
        {
          "output_type": "stream",
          "name": "stdout",
          "text": [
            "['shrimp,almonds,avocado,vegetables mix,green grapes,whole weat flour,yams,cottage cheese,energy drink,tomato juice,low fat yogurt,green tea,honey,salad,mineral water,salmon,antioxydant juice,frozen smoothie,spinach,olive oil', 'burgers,meatballs,eggs', 'chutney', 'turkey,avocado', 'mineral water,milk,energy bar,whole wheat rice,green tea']\n"
          ]
        }
      ]
    },
    {
      "cell_type": "code",
      "source": [
        "store_processed = [x.split(',') for x in store_data_processed]\n",
        "store_processed[:5]"
      ],
      "metadata": {
        "colab": {
          "base_uri": "https://localhost:8080/"
        },
        "id": "R6aBLP-ltn3q",
        "outputId": "89c9309c-0e4c-4962-a3aa-c23a589f8a39"
      },
      "execution_count": 14,
      "outputs": [
        {
          "output_type": "execute_result",
          "data": {
            "text/plain": [
              "[['shrimp',\n",
              "  'almonds',\n",
              "  'avocado',\n",
              "  'vegetables mix',\n",
              "  'green grapes',\n",
              "  'whole weat flour',\n",
              "  'yams',\n",
              "  'cottage cheese',\n",
              "  'energy drink',\n",
              "  'tomato juice',\n",
              "  'low fat yogurt',\n",
              "  'green tea',\n",
              "  'honey',\n",
              "  'salad',\n",
              "  'mineral water',\n",
              "  'salmon',\n",
              "  'antioxydant juice',\n",
              "  'frozen smoothie',\n",
              "  'spinach',\n",
              "  'olive oil'],\n",
              " ['burgers', 'meatballs', 'eggs'],\n",
              " ['chutney'],\n",
              " ['turkey', 'avocado'],\n",
              " ['mineral water', 'milk', 'energy bar', 'whole wheat rice', 'green tea']]"
            ]
          },
          "metadata": {},
          "execution_count": 14
        }
      ]
    },
    {
      "cell_type": "code",
      "source": [
        "#Apply Apriori\n",
        "association_rules=apriori(store_processed,min_support=0.0045,min_confidence=0.20,min_lift=3,min_length=2)\n",
        "association_results=list(association_rules)\n",
        "print(association_results[1])\n",
        "print(len(association_results))"
      ],
      "metadata": {
        "colab": {
          "base_uri": "https://localhost:8080/"
        },
        "id": "h6kvTx5Kt3nS",
        "outputId": "d8743f8f-58ff-4c65-936b-47b867d9ebad"
      },
      "execution_count": 29,
      "outputs": [
        {
          "output_type": "stream",
          "name": "stdout",
          "text": [
            "RelationRecord(items=frozenset({'escalope', 'mushroom cream sauce'}), support=0.005732568990801226, ordered_statistics=[OrderedStatistic(items_base=frozenset({'mushroom cream sauce'}), items_add=frozenset({'escalope'}), confidence=0.3006993006993007, lift=3.790832696715049)])\n",
            "24\n"
          ]
        }
      ]
    },
    {
      "cell_type": "code",
      "source": [
        "#Format Rules\n",
        "for item in association_results:\n",
        "  pair=item[0]\n",
        "  items=[x for x in pair]\n",
        "  print(\"Rule: \"+items[0]+\" -> \"+items[1])\n",
        "  print(\"Support: \"+str(item[1]))\n",
        "  print(\"Confidence:\",str(item[2][0][2]))\n",
        "  print(\"Lift: \"+str(item[2][0][3]))\n",
        "  print(\"=====================================\")"
      ],
      "metadata": {
        "colab": {
          "base_uri": "https://localhost:8080/"
        },
        "id": "j1r35gnLvsAR",
        "outputId": "ed7c31d5-720e-493b-b797-ad70129d6b7a"
      },
      "execution_count": 30,
      "outputs": [
        {
          "output_type": "stream",
          "name": "stdout",
          "text": [
            "Rule: light cream -> chicken\n",
            "Support: 0.004532728969470737\n",
            "Confidence: 0.29059829059829057\n",
            "Lift: 4.84395061728395\n",
            "=====================================\n",
            "Rule: escalope -> mushroom cream sauce\n",
            "Support: 0.005732568990801226\n",
            "Confidence: 0.3006993006993007\n",
            "Lift: 3.790832696715049\n",
            "=====================================\n",
            "Rule: pasta -> escalope\n",
            "Support: 0.005865884548726837\n",
            "Confidence: 0.3728813559322034\n",
            "Lift: 4.700811850163794\n",
            "=====================================\n",
            "Rule: ground beef -> herb & pepper\n",
            "Support: 0.015997866951073192\n",
            "Confidence: 0.3234501347708895\n",
            "Lift: 3.2919938411349285\n",
            "=====================================\n",
            "Rule: tomato sauce -> ground beef\n",
            "Support: 0.005332622317024397\n",
            "Confidence: 0.3773584905660377\n",
            "Lift: 3.840659481324083\n",
            "=====================================\n",
            "Rule: whole wheat pasta -> olive oil\n",
            "Support: 0.007998933475536596\n",
            "Confidence: 0.2714932126696833\n",
            "Lift: 4.122410097642296\n",
            "=====================================\n",
            "Rule: shrimp -> pasta\n",
            "Support: 0.005065991201173177\n",
            "Confidence: 0.3220338983050847\n",
            "Lift: 4.506672147735896\n",
            "=====================================\n",
            "Rule: shrimp -> frozen vegetables\n",
            "Support: 0.005332622317024397\n",
            "Confidence: 0.23255813953488375\n",
            "Lift: 3.2545123221103784\n",
            "=====================================\n",
            "Rule: spaghetti -> ground beef\n",
            "Support: 0.004799360085321957\n",
            "Confidence: 0.5714285714285714\n",
            "Lift: 3.2819951870487856\n",
            "=====================================\n",
            "Rule: spaghetti -> frozen vegetables\n",
            "Support: 0.008665511265164644\n",
            "Confidence: 0.31100478468899523\n",
            "Lift: 3.165328208890303\n",
            "=====================================\n",
            "Rule: frozen vegetables -> milk\n",
            "Support: 0.004799360085321957\n",
            "Confidence: 0.20338983050847456\n",
            "Lift: 3.088314005352364\n",
            "=====================================\n",
            "Rule: shrimp -> frozen vegetables\n",
            "Support: 0.007199040127982935\n",
            "Confidence: 0.30508474576271183\n",
            "Lift: 3.200616332819722\n",
            "=====================================\n",
            "Rule: spaghetti -> frozen vegetables\n",
            "Support: 0.005732568990801226\n",
            "Confidence: 0.20574162679425836\n",
            "Lift: 3.1240241752707125\n",
            "=====================================\n",
            "Rule: spaghetti -> shrimp\n",
            "Support: 0.005999200106652446\n",
            "Confidence: 0.21531100478468898\n",
            "Lift: 3.0131489680782684\n",
            "=====================================\n",
            "Rule: spaghetti -> frozen vegetables\n",
            "Support: 0.006665777896280496\n",
            "Confidence: 0.23923444976076558\n",
            "Lift: 3.4980460188216425\n",
            "=====================================\n",
            "Rule: spaghetti -> ground beef\n",
            "Support: 0.005332622317024397\n",
            "Confidence: 0.3225806451612903\n",
            "Lift: 3.283144395325426\n",
            "=====================================\n",
            "Rule: ground beef -> herb & pepper\n",
            "Support: 0.006665777896280496\n",
            "Confidence: 0.39062500000000006\n",
            "Lift: 3.975682666214383\n",
            "=====================================\n",
            "Rule: spaghetti -> ground beef\n",
            "Support: 0.006399146780429276\n",
            "Confidence: 0.3934426229508197\n",
            "Lift: 4.004359721511667\n",
            "=====================================\n",
            "Rule: ground beef -> milk\n",
            "Support: 0.004932675643247567\n",
            "Confidence: 0.22424242424242427\n",
            "Lift: 3.40494417862839\n",
            "=====================================\n",
            "Rule: spaghetti -> shrimp\n",
            "Support: 0.005999200106652446\n",
            "Confidence: 0.5232558139534884\n",
            "Lift: 3.005315360233627\n",
            "=====================================\n",
            "Rule: spaghetti -> milk\n",
            "Support: 0.007199040127982935\n",
            "Confidence: 0.20300751879699247\n",
            "Lift: 3.0825089038385434\n",
            "=====================================\n",
            "Rule: olive oil -> mineral water\n",
            "Support: 0.005199306759098787\n",
            "Confidence: 0.22543352601156072\n",
            "Lift: 3.4230301186492245\n",
            "=====================================\n",
            "Rule: spaghetti -> pancakes\n",
            "Support: 0.005065991201173177\n",
            "Confidence: 0.20105820105820105\n",
            "Lift: 3.0529100529100526\n",
            "=====================================\n",
            "Rule: spaghetti -> frozen vegetables\n",
            "Support: 0.004532728969470737\n",
            "Confidence: 0.28813559322033894\n",
            "Lift: 3.0228043143297376\n",
            "=====================================\n"
          ]
        }
      ]
    },
    {
      "cell_type": "code",
      "source": [],
      "metadata": {
        "id": "yLT99ac6yTw9"
      },
      "execution_count": null,
      "outputs": []
    }
  ]
}