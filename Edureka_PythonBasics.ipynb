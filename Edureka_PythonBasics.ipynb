{
  "nbformat": 4,
  "nbformat_minor": 0,
  "metadata": {
    "colab": {
      "provenance": [],
      "authorship_tag": "ABX9TyO1KoTGsbk/bmINtuEmI0RZ",
      "include_colab_link": true
    },
    "kernelspec": {
      "name": "python3",
      "display_name": "Python 3"
    },
    "language_info": {
      "name": "python"
    }
  },
  "cells": [
    {
      "cell_type": "markdown",
      "metadata": {
        "id": "view-in-github",
        "colab_type": "text"
      },
      "source": [
        "<a href=\"https://colab.research.google.com/github/IshaSarangi/Edureka_Notes/blob/main/Edureka_PythonBasics.ipynb\" target=\"_parent\"><img src=\"https://colab.research.google.com/assets/colab-badge.svg\" alt=\"Open In Colab\"/></a>"
      ]
    },
    {
      "cell_type": "code",
      "execution_count": null,
      "metadata": {
        "colab": {
          "base_uri": "https://localhost:8080/"
        },
        "id": "OIDfF69WSg3l",
        "outputId": "afa3b6cf-3403-4f64-be7d-c47bcc467257"
      },
      "outputs": [
        {
          "output_type": "stream",
          "name": "stdout",
          "text": [
            "My name is Isha Sarangi. This is not the first time I am using Colab.\n"
          ]
        }
      ],
      "source": [
        "print(\"My name is Isha Sarangi. This is not the first time I am using Colab.\")"
      ]
    },
    {
      "cell_type": "markdown",
      "source": [
        "Python Keywords"
      ],
      "metadata": {
        "id": "TC2JwZciVaPu"
      }
    },
    {
      "cell_type": "code",
      "source": [
        "import keyword\n",
        "print(keyword.kwlist)"
      ],
      "metadata": {
        "colab": {
          "base_uri": "https://localhost:8080/"
        },
        "id": "jcq8XXgKVDRH",
        "outputId": "9a95204c-df7b-4c37-a133-da8d830c083a"
      },
      "execution_count": null,
      "outputs": [
        {
          "output_type": "stream",
          "name": "stdout",
          "text": [
            "['False', 'None', 'True', 'and', 'as', 'assert', 'async', 'await', 'break', 'class', 'continue', 'def', 'del', 'elif', 'else', 'except', 'finally', 'for', 'from', 'global', 'if', 'import', 'in', 'is', 'lambda', 'nonlocal', 'not', 'or', 'pass', 'raise', 'return', 'try', 'while', 'with', 'yield']\n"
          ]
        }
      ]
    },
    {
      "cell_type": "markdown",
      "source": [
        "Identifier"
      ],
      "metadata": {
        "id": "hdln4WE4Vetr"
      }
    },
    {
      "cell_type": "code",
      "source": [
        "age = 45"
      ],
      "metadata": {
        "id": "v0tkRt84VIlp"
      },
      "execution_count": null,
      "outputs": []
    },
    {
      "cell_type": "markdown",
      "source": [
        "1. Keyword are not allowed\n",
        "2. Name should start from alphabet not with numbers or special characters\n",
        "3. Only (_) underscore is allowed"
      ],
      "metadata": {
        "id": "_8bxhjH1VzNJ"
      }
    },
    {
      "cell_type": "code",
      "source": [
        "salary = 10000\n",
        "print(type(salary))\n",
        "print(isinstance(salary, int))"
      ],
      "metadata": {
        "colab": {
          "base_uri": "https://localhost:8080/"
        },
        "id": "r7R89fa7WA24",
        "outputId": "2570c6a8-1940-4a7e-955e-99529a09a373"
      },
      "execution_count": null,
      "outputs": [
        {
          "output_type": "stream",
          "name": "stdout",
          "text": [
            "<class 'int'>\n",
            "True\n"
          ]
        }
      ]
    },
    {
      "cell_type": "code",
      "source": [
        "roi = 12.64\n",
        "print(type(roi))\n",
        "print(isinstance(roi, float))"
      ],
      "metadata": {
        "colab": {
          "base_uri": "https://localhost:8080/"
        },
        "id": "VYaIvX_VYchi",
        "outputId": "ff965655-0185-4a68-ab5a-e0ae3b753636"
      },
      "execution_count": null,
      "outputs": [
        {
          "output_type": "stream",
          "name": "stdout",
          "text": [
            "<class 'float'>\n",
            "True\n"
          ]
        }
      ]
    },
    {
      "cell_type": "code",
      "source": [
        "import sys\n",
        "print(sys.getsizeof(salary)) #salary in bytes"
      ],
      "metadata": {
        "colab": {
          "base_uri": "https://localhost:8080/"
        },
        "id": "2owDOjffYxUI",
        "outputId": "dc621ac7-ea8d-468a-bb6b-4dd5da9a357d"
      },
      "execution_count": null,
      "outputs": [
        {
          "output_type": "stream",
          "name": "stdout",
          "text": [
            "28\n"
          ]
        }
      ]
    },
    {
      "cell_type": "code",
      "source": [
        "age = 24\n",
        "print(age>18)\n",
        "print(type(age>18))"
      ],
      "metadata": {
        "colab": {
          "base_uri": "https://localhost:8080/"
        },
        "id": "KaIZQD4KaLvj",
        "outputId": "a5533dd9-c3a4-4ed4-fa0f-866f523ed894"
      },
      "execution_count": null,
      "outputs": [
        {
          "output_type": "stream",
          "name": "stdout",
          "text": [
            "True\n",
            "<class 'bool'>\n"
          ]
        }
      ]
    },
    {
      "cell_type": "markdown",
      "source": [
        "Sequences / Collection Datatypes / Built-in Datastructure: Strings, Lists, Tuples, Sets, Dictionaries"
      ],
      "metadata": {
        "id": "blohe80Shre3"
      }
    },
    {
      "cell_type": "code",
      "source": [
        "# Collections: Managing multiple values in sequence\n",
        "\n",
        "'''\n",
        "Ordered / Unordered (indexing)\n",
        "Mutable / Immutable (editable or not)\n",
        "Duplicates are allowed or not\n",
        "\n",
        "'''\n",
        "\n",
        "# 1. Strings: Ordered, Immutable, Duplicates allowed\n",
        "# 2. Lists []: Ordered, Mutable, Duplicates allowed\n",
        "# 3. Tuples (): Ordered, Immutable, Duplicates allowed\n",
        "# 4. Sets {}: Unordered, Mutable, Duplicates not allowed\n",
        "# 5. Dictionaries {Key:Value}: Unordered, Keys are Immutable, Values are Mutable"
      ],
      "metadata": {
        "id": "lGQlgDCGcgSM"
      },
      "execution_count": null,
      "outputs": []
    },
    {
      "cell_type": "markdown",
      "source": [
        "Python List"
      ],
      "metadata": {
        "id": "zhKQgocYk6eT"
      }
    },
    {
      "cell_type": "code",
      "source": [
        "emp = [64, 'Isha Sarangi', 10000, 6.4, 'Cuttack', ['Project1', 'Project2']]\n",
        "print(type(emp))\n",
        "\n",
        "print(emp[0])\n",
        "print(emp[-1][0])\n",
        "print(emp)\n",
        "\n",
        "#updating list\n",
        "emp[2] = 62000\n",
        "print(emp)"
      ],
      "metadata": {
        "colab": {
          "base_uri": "https://localhost:8080/"
        },
        "id": "l2zkPYF0k1Qw",
        "outputId": "4fe97978-640d-4b73-fa96-390d8e6afa5d"
      },
      "execution_count": null,
      "outputs": [
        {
          "output_type": "stream",
          "name": "stdout",
          "text": [
            "<class 'list'>\n",
            "64\n",
            "Project1\n",
            "[64, 'Isha Sarangi', 10000, 6.4, 'Cuttack', ['Project1', 'Project2']]\n",
            "[64, 'Isha Sarangi', 62000, 6.4, 'Cuttack', ['Project1', 'Project2']]\n"
          ]
        }
      ]
    },
    {
      "cell_type": "code",
      "source": [
        "lst = [10,10,20,40,60]\n",
        "print(lst)"
      ],
      "metadata": {
        "colab": {
          "base_uri": "https://localhost:8080/"
        },
        "id": "OGNXd-KdnIg8",
        "outputId": "47af552a-eeb7-4f14-c2b0-a6028cd56d5e"
      },
      "execution_count": null,
      "outputs": [
        {
          "output_type": "stream",
          "name": "stdout",
          "text": [
            "[10, 10, 20, 40, 60]\n"
          ]
        }
      ]
    },
    {
      "cell_type": "code",
      "source": [
        "emp = [64, 'Isha Sarangi', 10000, 6.4, 'Cuttack', ['Project1', 'Project2']]\n",
        "print(len(emp))\n",
        "\n",
        "# insert item\n",
        "'''\n",
        "append() - adds only one item at the end\n",
        "extend() - adds multiple items at the end\n",
        "insert() - adds item at any position (index)\n",
        "'''\n",
        "emp.append('Generative AI Enthusiasnt')\n",
        "print(emp)"
      ],
      "metadata": {
        "colab": {
          "base_uri": "https://localhost:8080/"
        },
        "id": "VMmMdT_7opp4",
        "outputId": "f6d41cbf-2627-4d52-fbe4-9f3f11a2ba1f"
      },
      "execution_count": null,
      "outputs": [
        {
          "output_type": "stream",
          "name": "stdout",
          "text": [
            "6\n",
            "[64, 'Isha Sarangi', 10000, 6.4, 'Cuttack', ['Project1', 'Project2'], 'Generative AI Enthusiasnt']\n"
          ]
        }
      ]
    },
    {
      "cell_type": "code",
      "source": [
        "emp.extend(['a', 'b', 'c'])\n",
        "print(emp)"
      ],
      "metadata": {
        "colab": {
          "base_uri": "https://localhost:8080/"
        },
        "id": "1JLoha1sqVer",
        "outputId": "489e84b2-cf13-4617-f42d-72d7a257ff22"
      },
      "execution_count": null,
      "outputs": [
        {
          "output_type": "stream",
          "name": "stdout",
          "text": [
            "[64, 'Isha Sarangi', 'Female', 'Female', 'Female', 'Female', 10000, 6.4, 'Cuttack', ['Project1', 'Project2'], 'Generative AI Enthusiasnt', 'a', 'b', 'c', 'a', 'b', 'c']\n"
          ]
        }
      ]
    },
    {
      "cell_type": "code",
      "source": [
        "emp.insert(2, 'Female')\n",
        "print(emp)"
      ],
      "metadata": {
        "id": "9TaprOCurTbU"
      },
      "execution_count": null,
      "outputs": []
    },
    {
      "cell_type": "code",
      "source": [
        "# Remove\n",
        "# pop(): removes last item by default, otherwise as per index specified\n",
        "\n",
        "# emp.pop()\n",
        "# print(emp)\n",
        "emp.pop(-4)\n",
        "print(emp)\n"
      ],
      "metadata": {
        "colab": {
          "base_uri": "https://localhost:8080/"
        },
        "id": "Xk_yWZDfranz",
        "outputId": "7febd2a5-1cf3-4eeb-fce1-481a30b3acf8"
      },
      "execution_count": null,
      "outputs": [
        {
          "output_type": "stream",
          "name": "stdout",
          "text": [
            "[64, 'Isha Sarangi', 'Female', 'Female', 'Female', 'Female', 10000, 'Cuttack', ['Project1', 'Project2'], 'Generative AI Enthusiasnt']\n"
          ]
        }
      ]
    },
    {
      "cell_type": "code",
      "source": [
        "# remove(): removes the item not the index\n",
        "# if duplicate values, it removes the first occurrence\n",
        "# in lists, if duplicate values exist, the list calls the first occurrence\n",
        "\n",
        "emp.remove(64)\n",
        "print(emp)"
      ],
      "metadata": {
        "colab": {
          "base_uri": "https://localhost:8080/"
        },
        "id": "4aGSHouorz0l",
        "outputId": "b3225506-58ac-4a76-93fd-1cceafc2311b"
      },
      "execution_count": null,
      "outputs": [
        {
          "output_type": "stream",
          "name": "stdout",
          "text": [
            "['Isha Sarangi', 'Female', 'Female', 'Female', 'Female', 10000, 'Cuttack', ['Project1', 'Project2'], 'Generative AI Enthusiasnt']\n"
          ]
        }
      ]
    },
    {
      "cell_type": "code",
      "source": [
        "emp.remove('Female')\n",
        "print(emp)"
      ],
      "metadata": {
        "colab": {
          "base_uri": "https://localhost:8080/"
        },
        "id": "XRCJvMCrsWqk",
        "outputId": "90a02585-fa8e-4ace-f9e0-a8e8f6b9df10"
      },
      "execution_count": null,
      "outputs": [
        {
          "output_type": "stream",
          "name": "stdout",
          "text": [
            "['Isha Sarangi', 'Female', 10000, 'Cuttack', ['Project1', 'Project2'], 'Generative AI Enthusiasnt']\n"
          ]
        }
      ]
    },
    {
      "cell_type": "code",
      "source": [
        "# remove duplicates\n",
        "lst = [1,1,2,3,4,1,5,6]\n",
        "for i in lst:\n",
        "    if i==1:\n",
        "        lst.remove(1)\n",
        "\n",
        "print(lst)"
      ],
      "metadata": {
        "colab": {
          "base_uri": "https://localhost:8080/"
        },
        "id": "24B7Dr4xtM72",
        "outputId": "6123b7ab-a810-4f28-b926-37286bddd20d"
      },
      "execution_count": null,
      "outputs": [
        {
          "output_type": "stream",
          "name": "stdout",
          "text": [
            "[2, 3, 4, 1, 5, 6]\n"
          ]
        }
      ]
    },
    {
      "cell_type": "markdown",
      "source": [
        "Python Tuple"
      ],
      "metadata": {
        "id": "pkJuxGK4nV_b"
      }
    },
    {
      "cell_type": "code",
      "source": [
        "tup = (64, 'Isha Sarangi', 62000, 6.4, 'Cuttack', ['Project1', 'Project2'])\n",
        "print(type(tup))\n",
        "\n",
        "# check mutability\n",
        "# tup[3] = 4.8\n",
        "# print(tup)\n",
        "\n",
        "tup[-1][0] = 'Project3'\n",
        "print(tup)"
      ],
      "metadata": {
        "colab": {
          "base_uri": "https://localhost:8080/"
        },
        "id": "cX2QDWN6nVnx",
        "outputId": "14132255-0033-4e6f-b40a-4f44ac29d0e3"
      },
      "execution_count": null,
      "outputs": [
        {
          "output_type": "stream",
          "name": "stdout",
          "text": [
            "<class 'tuple'>\n",
            "(64, 'Isha Sarangi', 62000, 6.4, 'Cuttack', ['Project3', 'Project2'])\n"
          ]
        }
      ]
    },
    {
      "cell_type": "markdown",
      "source": [
        "Python Sets"
      ],
      "metadata": {
        "id": "-GHiGY2LvplI"
      }
    },
    {
      "cell_type": "code",
      "source": [
        "# Set Operations\n",
        "s1 = {1,2,3,4,5}\n",
        "s2 = {4,5,6,7,8}\n",
        "print(s1.union(s2))\n",
        "print(s1.intersection(s2))\n",
        "print(s1.difference(s2))\n",
        "print(s2.difference(s1))\n",
        "print(s1.symmetric_difference(s2))"
      ],
      "metadata": {
        "colab": {
          "base_uri": "https://localhost:8080/"
        },
        "id": "0HQ0H_Zpvq7q",
        "outputId": "83685879-d67e-40f0-c86c-4d9a3e495047"
      },
      "execution_count": null,
      "outputs": [
        {
          "output_type": "stream",
          "name": "stdout",
          "text": [
            "{1, 2, 3, 4, 5, 6, 7, 8}\n",
            "{4, 5}\n",
            "{1, 2, 3}\n",
            "{8, 6, 7}\n",
            "{1, 2, 3, 6, 7, 8}\n"
          ]
        }
      ]
    },
    {
      "cell_type": "code",
      "source": [
        "# Type Conversion / Casting\n",
        "lst = [1,2,2,3,5,5,6,3]\n",
        "print(type(lst))\n",
        "tup = tuple(lst) # list converted to tuple\n",
        "\n",
        "st = set(lst) # list converted to set\n",
        "print(st)\n",
        "\n",
        "lst = list(st) # set converted to list\n",
        "print(lst)"
      ],
      "metadata": {
        "colab": {
          "base_uri": "https://localhost:8080/"
        },
        "id": "R1JLadZCyCP4",
        "outputId": "4ad4d3ab-e287-4676-8ae6-48c54831c553"
      },
      "execution_count": null,
      "outputs": [
        {
          "output_type": "stream",
          "name": "stdout",
          "text": [
            "<class 'list'>\n",
            "{1, 2, 3, 5, 6}\n",
            "[1, 2, 3, 5, 6]\n"
          ]
        }
      ]
    },
    {
      "cell_type": "code",
      "source": [
        "# Nested Sequence\n",
        "emp = [64, 'Isha Sarangi', 62000, 6.4, 'Cuttack', ['Project1', 'Project2']]\n",
        "print(emp)\n",
        "print(emp[-1])\n",
        "print(emp[-1][0])"
      ],
      "metadata": {
        "colab": {
          "base_uri": "https://localhost:8080/"
        },
        "id": "q50pvM8YWjh8",
        "outputId": "b4fd36e8-d7b6-4521-8220-ac3674d2cc26"
      },
      "execution_count": null,
      "outputs": [
        {
          "output_type": "stream",
          "name": "stdout",
          "text": [
            "[64, 'Isha Sarangi', 62000, 6.4, 'Cuttack', ['Project1', 'Project2']]\n",
            "['Project1', 'Project2']\n",
            "Project1\n"
          ]
        }
      ]
    },
    {
      "cell_type": "markdown",
      "source": [
        "Python Dictionary {Key:Value}"
      ],
      "metadata": {
        "id": "isLtqOlkXZjb"
      }
    },
    {
      "cell_type": "code",
      "source": [
        "emp = {'id': 64, 'name': 'Isha Sarangi', 'salary': 10000, 'exp': 2, 'city': 'Cuttack'}\n",
        "print(type(emp))\n",
        "\n",
        "print(emp['salary'])"
      ],
      "metadata": {
        "colab": {
          "base_uri": "https://localhost:8080/"
        },
        "id": "M6KPIBxeXbZW",
        "outputId": "22763457-703b-49cc-a359-76d740459128"
      },
      "execution_count": null,
      "outputs": [
        {
          "output_type": "stream",
          "name": "stdout",
          "text": [
            "<class 'dict'>\n",
            "10000\n"
          ]
        }
      ]
    },
    {
      "cell_type": "code",
      "source": [
        "emp['salary'] = 62000 #keys are immutable, values are mutable\n",
        "print(emp)"
      ],
      "metadata": {
        "colab": {
          "base_uri": "https://localhost:8080/"
        },
        "id": "CPpQqwegY5nk",
        "outputId": "d18988f6-d9f9-4290-de8d-79f2447d1946"
      },
      "execution_count": null,
      "outputs": [
        {
          "output_type": "stream",
          "name": "stdout",
          "text": [
            "{'id': 64, 'name': 'Isha Sarangi', 'salary': 62000, 'exp': 2, 'city': 'Cuttack'}\n"
          ]
        }
      ]
    },
    {
      "cell_type": "code",
      "source": [
        "emp['Gender'] = 'Female' #item addition\n",
        "print(emp)"
      ],
      "metadata": {
        "colab": {
          "base_uri": "https://localhost:8080/"
        },
        "id": "T1csFriqZDNS",
        "outputId": "728298ed-e229-4dd6-aff4-bbaf497aa070"
      },
      "execution_count": null,
      "outputs": [
        {
          "output_type": "stream",
          "name": "stdout",
          "text": [
            "{'id': 64, 'name': 'Isha Sarangi', 'salary': 62000, 'exp': 2, 'city': 'Cuttack', 'Gender': 'Female'}\n"
          ]
        }
      ]
    },
    {
      "cell_type": "code",
      "source": [
        "#Remove item\n",
        "emp.pop('Gender')\n",
        "print(emp)"
      ],
      "metadata": {
        "colab": {
          "base_uri": "https://localhost:8080/"
        },
        "id": "VfWrtDTTZYny",
        "outputId": "22cdb170-c6a4-40dd-c1a1-13d147f39657"
      },
      "execution_count": null,
      "outputs": [
        {
          "output_type": "stream",
          "name": "stdout",
          "text": [
            "{'id': 64, 'name': 'Isha Sarangi', 'salary': 62000, 'exp': 2, 'city': 'Cuttack'}\n"
          ]
        }
      ]
    },
    {
      "cell_type": "code",
      "source": [
        "#Nested Sequence\n",
        "emp = {'id': [101,102], 'name': ['Isha', 'Aryan'], 'salary': [62000, 94000]}\n",
        "print(emp)\n",
        "\n",
        "import pandas as pd\n",
        "df = pd.DataFrame(emp)\n",
        "print(df)"
      ],
      "metadata": {
        "colab": {
          "base_uri": "https://localhost:8080/"
        },
        "id": "FeZwGhcOZwNr",
        "outputId": "96b9a8bf-4856-40cc-fc10-cb1b5a1fbe75"
      },
      "execution_count": null,
      "outputs": [
        {
          "output_type": "stream",
          "name": "stdout",
          "text": [
            "{'id': [101, 102], 'name': ['Isha', 'Aryan'], 'salary': [62000, 94000]}\n",
            "    id   name  salary\n",
            "0  101   Isha   62000\n",
            "1  102  Aryan   94000\n"
          ]
        }
      ]
    },
    {
      "cell_type": "markdown",
      "source": [
        "Python Strings: Slicing, Interpolation, Inputs"
      ],
      "metadata": {
        "id": "hDFwIIHcbg16"
      }
    },
    {
      "cell_type": "code",
      "source": [
        "str = 'Sample String'\n",
        "lst = list(str)\n",
        "print(str)\n",
        "print(lst)\n",
        "print(str[1])"
      ],
      "metadata": {
        "colab": {
          "base_uri": "https://localhost:8080/"
        },
        "id": "XQO5a35Qbn48",
        "outputId": "056a719b-3db3-4eb7-b96b-3de3bf65f6ad"
      },
      "execution_count": null,
      "outputs": [
        {
          "output_type": "stream",
          "name": "stdout",
          "text": [
            "Sample String\n",
            "['S', 'a', 'm', 'p', 'l', 'e', ' ', 'S', 't', 'r', 'i', 'n', 'g']\n",
            "a\n"
          ]
        }
      ]
    },
    {
      "cell_type": "code",
      "source": [
        "#Slicing [start:stop:step]\n",
        "str = 'abcdefgh'\n",
        "print(str[0:5]) #start is inclusive, end is exclusive\n",
        "print(str[5:8])\n",
        "print(str[0:8:2])\n",
        "print(str[::-1]) #reverse order\n",
        "print(str[5:])"
      ],
      "metadata": {
        "colab": {
          "base_uri": "https://localhost:8080/"
        },
        "id": "AzzonW7Db5Yn",
        "outputId": "a66909ed-7d62-41d3-dced-2b84d770231b"
      },
      "execution_count": null,
      "outputs": [
        {
          "output_type": "stream",
          "name": "stdout",
          "text": [
            "abcde\n",
            "fgh\n",
            "aceg\n",
            "hgfedcba\n",
            "fgh\n"
          ]
        }
      ]
    },
    {
      "cell_type": "code",
      "source": [
        "#Keyboard inputs\n",
        "name = input(\"Enter your name: \")\n",
        "print(f\"Hi, {name}. Good morning!\")\n",
        "#print(type(name))\n",
        "age = int(input(\"Enter your age: \")) #casting string to integers\n",
        "#print(f\"Alright you are {age}!\")\n",
        "if age >=18:\n",
        "    print(f\"Oh you are {age}. It means you are an adult now! Congratulations!\")\n",
        "else:\n",
        "    print(f\"Ah you are only {age}. Still a minor. Enjoy!\")\n",
        "#print(type(age))"
      ],
      "metadata": {
        "colab": {
          "base_uri": "https://localhost:8080/"
        },
        "id": "n2bGTwx4eMDx",
        "outputId": "26284d00-5b25-403f-bd61-e1e55690ef77"
      },
      "execution_count": null,
      "outputs": [
        {
          "output_type": "stream",
          "name": "stdout",
          "text": [
            "Enter your name: Isha\n",
            "Hi, Isha. Good morning!\n",
            "Enter your age: 24\n",
            "Oh you are 24. It means you are an adult now! Congratulations!\n"
          ]
        }
      ]
    },
    {
      "cell_type": "code",
      "source": [
        "name = input('Name: ')\n",
        "balance = int(input('Balance: '))\n",
        "\n",
        "print('Hi {}, your balance is {}.'.format(name, balance))"
      ],
      "metadata": {
        "colab": {
          "base_uri": "https://localhost:8080/"
        },
        "id": "IIjfpz0-g3E_",
        "outputId": "6080a476-a5d5-40e0-f4d2-56563ded3471"
      },
      "execution_count": null,
      "outputs": [
        {
          "output_type": "stream",
          "name": "stdout",
          "text": [
            "Name: Isha\n",
            "Balance: 20000\n",
            "Hi Isha, your balance is 20000.\n"
          ]
        }
      ]
    },
    {
      "cell_type": "code",
      "source": [
        "#Split()\n",
        "str = \"I am using split() function\"\n",
        "print(str.split()) #default separator is space"
      ],
      "metadata": {
        "colab": {
          "base_uri": "https://localhost:8080/"
        },
        "id": "MLrdSFgSjIY-",
        "outputId": "1fcfe929-890d-49a2-cb31-8850ec2ef493"
      },
      "execution_count": null,
      "outputs": [
        {
          "output_type": "stream",
          "name": "stdout",
          "text": [
            "['I', 'am', 'using', 'split()', 'function']\n"
          ]
        }
      ]
    },
    {
      "cell_type": "code",
      "source": [
        "str = \"Isha, Aryan, Rich, Business, Hustle\"\n",
        "print(str.split(',')) #separator is comma"
      ],
      "metadata": {
        "colab": {
          "base_uri": "https://localhost:8080/"
        },
        "id": "zHV4fD2cj0ly",
        "outputId": "1cf202a1-232f-4719-d88e-e5f0f0fe0d50"
      },
      "execution_count": null,
      "outputs": [
        {
          "output_type": "stream",
          "name": "stdout",
          "text": [
            "['Isha', ' Aryan', ' Rich', ' Business', ' Hustle']\n"
          ]
        }
      ]
    },
    {
      "cell_type": "code",
      "source": [
        "print(dir(str)) #gives associated functions with the object"
      ],
      "metadata": {
        "colab": {
          "base_uri": "https://localhost:8080/"
        },
        "id": "7t_5NdF6kAim",
        "outputId": "c10b20c9-03fa-4e2f-ec4b-2c59cfe92ab0"
      },
      "execution_count": null,
      "outputs": [
        {
          "output_type": "stream",
          "name": "stdout",
          "text": [
            "['__add__', '__class__', '__contains__', '__delattr__', '__dir__', '__doc__', '__eq__', '__format__', '__ge__', '__getattribute__', '__getitem__', '__getnewargs__', '__getstate__', '__gt__', '__hash__', '__init__', '__init_subclass__', '__iter__', '__le__', '__len__', '__lt__', '__mod__', '__mul__', '__ne__', '__new__', '__reduce__', '__reduce_ex__', '__repr__', '__rmod__', '__rmul__', '__setattr__', '__sizeof__', '__str__', '__subclasshook__', 'capitalize', 'casefold', 'center', 'count', 'encode', 'endswith', 'expandtabs', 'find', 'format', 'format_map', 'index', 'isalnum', 'isalpha', 'isascii', 'isdecimal', 'isdigit', 'isidentifier', 'islower', 'isnumeric', 'isprintable', 'isspace', 'istitle', 'isupper', 'join', 'ljust', 'lower', 'lstrip', 'maketrans', 'partition', 'removeprefix', 'removesuffix', 'replace', 'rfind', 'rindex', 'rjust', 'rpartition', 'rsplit', 'rstrip', 'split', 'splitlines', 'startswith', 'strip', 'swapcase', 'title', 'translate', 'upper', 'zfill']\n"
          ]
        }
      ]
    },
    {
      "cell_type": "code",
      "source": [
        "print(str.count.__doc__)"
      ],
      "metadata": {
        "colab": {
          "base_uri": "https://localhost:8080/"
        },
        "id": "46fYgZtmoYqC",
        "outputId": "77960858-3bce-42be-bd05-10a4b679f340"
      },
      "execution_count": null,
      "outputs": [
        {
          "output_type": "stream",
          "name": "stdout",
          "text": [
            "S.count(sub[, start[, end]]) -> int\n",
            "\n",
            "Return the number of non-overlapping occurrences of substring sub in\n",
            "string S[start:end].  Optional arguments start and end are\n",
            "interpreted as in slice notation.\n"
          ]
        }
      ]
    },
    {
      "cell_type": "markdown",
      "source": [
        "Flow Control Statements: Conditional Statements, Loops"
      ],
      "metadata": {
        "id": "VB26NRGvteFu"
      }
    },
    {
      "cell_type": "code",
      "source": [
        "#Conditional Statements: if, else, elif\n",
        "marks = int(input(\"Enter your marks: \"))\n",
        "if marks > 80:\n",
        "    print(\"Your Grade is A! COngratulations!\")\n",
        "else:\n",
        "    print(\"Your Grade is B.\")"
      ],
      "metadata": {
        "colab": {
          "base_uri": "https://localhost:8080/"
        },
        "id": "eg4aC1NVth5Z",
        "outputId": "fb425e4f-b832-41d2-9cc0-eb970cbf84e9"
      },
      "execution_count": null,
      "outputs": [
        {
          "output_type": "stream",
          "name": "stdout",
          "text": [
            "Enter your marks: 98\n",
            "Your Grade is A! COngratulations!\n"
          ]
        }
      ]
    },
    {
      "cell_type": "code",
      "source": [
        "marks = int(input(\"Enter your marks: \"))\n",
        "if marks < 50 and marks >= 0:\n",
        "    if marks == 0:\n",
        "        print('FAIL!')\n",
        "    else:\n",
        "        print(\"Grade: D\")\n",
        "elif 50 <= marks < 70:\n",
        "    print('Grade: C')\n",
        "elif 70 <= marks < 85:\n",
        "    print('Grade: B')\n",
        "elif 85 <= marks <= 100:\n",
        "    if 95 <= marks <=100:\n",
        "        print(\"Grade: A+. COngratulations!\")\n",
        "    else:\n",
        "        print(\"Grade: A\")"
      ],
      "metadata": {
        "colab": {
          "base_uri": "https://localhost:8080/"
        },
        "id": "xQ_EF2vZuysf",
        "outputId": "7bf9a65e-4f71-46b1-9907-636280802334"
      },
      "execution_count": null,
      "outputs": [
        {
          "output_type": "stream",
          "name": "stdout",
          "text": [
            "Enter your marks: 1\n",
            "Grade: D\n"
          ]
        }
      ]
    },
    {
      "cell_type": "code",
      "source": [
        "#Loops: for, while\n",
        "lst = [45, 63, 98, 52, 32, 78, 45, 12, 96]\n",
        "\n",
        "for i in lst:\n",
        "    print(i)\n"
      ],
      "metadata": {
        "colab": {
          "base_uri": "https://localhost:8080/"
        },
        "id": "MzkmAi-hxbeC",
        "outputId": "bbb10028-0756-4243-802d-3ec1911b89f0"
      },
      "execution_count": null,
      "outputs": [
        {
          "output_type": "stream",
          "name": "stdout",
          "text": [
            "45\n",
            "63\n",
            "98\n",
            "52\n",
            "32\n",
            "78\n",
            "45\n",
            "12\n",
            "96\n"
          ]
        }
      ]
    },
    {
      "cell_type": "code",
      "source": [
        "for i in emp:\n",
        "    print(emp[i])"
      ],
      "metadata": {
        "colab": {
          "base_uri": "https://localhost:8080/"
        },
        "id": "XEd_Ji_Dyd3t",
        "outputId": "d90e1b82-4c41-4653-e09d-58e1e8d4d26c"
      },
      "execution_count": null,
      "outputs": [
        {
          "output_type": "stream",
          "name": "stdout",
          "text": [
            "[101, 102]\n",
            "['Isha', 'Aryan']\n",
            "[62000, 94000]\n"
          ]
        }
      ]
    },
    {
      "cell_type": "code",
      "source": [
        "for i in enumerate(lst): #enumerate displays index/position of an item\n",
        "    print(i)"
      ],
      "metadata": {
        "colab": {
          "base_uri": "https://localhost:8080/"
        },
        "id": "WjEkIRClykqa",
        "outputId": "5eadbc2f-d0df-4a7d-977c-5abe6275ca6e"
      },
      "execution_count": null,
      "outputs": [
        {
          "output_type": "stream",
          "name": "stdout",
          "text": [
            "(0, 45)\n",
            "(1, 63)\n",
            "(2, 98)\n",
            "(3, 52)\n",
            "(4, 32)\n",
            "(5, 78)\n",
            "(6, 45)\n",
            "(7, 12)\n",
            "(8, 96)\n"
          ]
        }
      ]
    },
    {
      "cell_type": "code",
      "source": [
        "#range(start, stop, step)\n",
        "print(list(range(0, 101, 5)))"
      ],
      "metadata": {
        "colab": {
          "base_uri": "https://localhost:8080/"
        },
        "id": "uGf3YiwFy0fX",
        "outputId": "a2f209f6-17f3-472d-a67d-8b0007c567ea"
      },
      "execution_count": null,
      "outputs": [
        {
          "output_type": "stream",
          "name": "stdout",
          "text": [
            "[0, 5, 10, 15, 20, 25, 30, 35, 40, 45, 50, 55, 60, 65, 70, 75, 80, 85, 90, 95, 100]\n"
          ]
        }
      ]
    },
    {
      "cell_type": "code",
      "source": [
        "num = int(input(\"Enter a number for which you want the table: \"))\n",
        "for i in range(1,11):\n",
        "    print(f'{num}x{i}={num*i}')"
      ],
      "metadata": {
        "colab": {
          "base_uri": "https://localhost:8080/"
        },
        "id": "QqhqH2my0Clb",
        "outputId": "1100c4cf-544c-492f-a258-bb37cf1c57ea"
      },
      "execution_count": null,
      "outputs": [
        {
          "output_type": "stream",
          "name": "stdout",
          "text": [
            "Enter a number for which you want the table: 2\n",
            "2x1=2\n",
            "2x2=4\n",
            "2x3=6\n",
            "2x4=8\n",
            "2x5=10\n",
            "2x6=12\n",
            "2x7=14\n",
            "2x8=16\n",
            "2x9=18\n",
            "2x10=20\n"
          ]
        }
      ]
    },
    {
      "cell_type": "code",
      "source": [
        "#while loop\n",
        "marks = int(input(\"Enter a number for which you want the table:\"))\n",
        "i = 1\n",
        "while i <= 10:\n",
        "    print(f'{marks}x{i}={marks*i}')\n",
        "    i += 1"
      ],
      "metadata": {
        "colab": {
          "base_uri": "https://localhost:8080/"
        },
        "id": "FUnXFhXz0rmD",
        "outputId": "1459b181-7145-4e4a-daa4-993f85357c27"
      },
      "execution_count": null,
      "outputs": [
        {
          "output_type": "stream",
          "name": "stdout",
          "text": [
            "Enter a number for which you want the table:10\n",
            "10x1=10\n",
            "10x2=20\n",
            "10x3=30\n",
            "10x4=40\n",
            "10x5=50\n",
            "10x6=60\n",
            "10x7=70\n",
            "10x8=80\n",
            "10x9=90\n",
            "10x10=100\n"
          ]
        }
      ]
    },
    {
      "cell_type": "code",
      "source": [
        "#Guess the number game\n",
        "import random\n",
        "num = random.randint(1,101)\n",
        "attempts = 0\n",
        "\n",
        "while True:\n",
        "    guess = int(input(\"Guess a number between 1 and 100: \"))\n",
        "    attempts += 1\n",
        "\n",
        "    if guess < num:\n",
        "        print(\"Too low! Try again.\")\n",
        "    elif guess > num:\n",
        "        print(\"Too high! Try again. \")\n",
        "    else:\n",
        "        print(f'Congratulations! You guessed the number {num} in {attempts} attempts.')\n",
        "        break"
      ],
      "metadata": {
        "colab": {
          "base_uri": "https://localhost:8080/"
        },
        "id": "L7l0Qgx01NxN",
        "outputId": "920d031a-c53e-46bc-aefc-2b8a5bb5126b"
      },
      "execution_count": null,
      "outputs": [
        {
          "output_type": "stream",
          "name": "stdout",
          "text": [
            "Guess a number between 1 and 100: 100\n",
            "Too high! Try again. \n",
            "Guess a number between 1 and 100: 10\n",
            "Too high! Try again. \n",
            "Guess a number between 1 and 100: 9\n",
            "Too high! Try again. \n",
            "Guess a number between 1 and 100: 5\n",
            "Too high! Try again. \n",
            "Guess a number between 1 and 100: 2\n",
            "Too low! Try again.\n",
            "Guess a number between 1 and 100: 3\n",
            "Congratulations! You guessed the number 3 in 6 attempts.\n"
          ]
        }
      ]
    },
    {
      "cell_type": "code",
      "source": [
        "lst = [1,2,3,4,5,6,7,8,9]\n",
        "num = int(input(\"Enter the number you want to search: \"))\n",
        "\n",
        "for i in lst:\n",
        "    if i == num:\n",
        "        print(\"Number Found!\")\n",
        "        break\n",
        "    else:\n",
        "        print(i)"
      ],
      "metadata": {
        "colab": {
          "base_uri": "https://localhost:8080/"
        },
        "id": "OXd7CuAP3F89",
        "outputId": "7f443a2c-972e-46cf-aca3-1d550e20583f"
      },
      "execution_count": null,
      "outputs": [
        {
          "output_type": "stream",
          "name": "stdout",
          "text": [
            "Enter the number you want to search: 4\n",
            "1\n",
            "2\n",
            "3\n",
            "Number Found!\n"
          ]
        }
      ]
    },
    {
      "cell_type": "markdown",
      "source": [
        "## **Python Functions**\n",
        "\n",
        "1. Built-in Functions\n",
        "2. User-defined Functions\n",
        "3. Use Functions from modules/libraries\n"
      ],
      "metadata": {
        "id": "v3ZVrWYj4oDN"
      }
    },
    {
      "cell_type": "code",
      "source": [
        "#User defined functions:\n",
        "# 1. Define the function\n",
        "# 2. Call the functions\n",
        "\n",
        "def greet(name): #name is argument/parameter\n",
        "    print('Hi {}, good morning!'.format(name))\n",
        "\n",
        "greet('Isha')"
      ],
      "metadata": {
        "colab": {
          "base_uri": "https://localhost:8080/"
        },
        "id": "6wqCxMkL3jo3",
        "outputId": "355e8331-2260-4cc4-bcde-494d484916aa"
      },
      "execution_count": null,
      "outputs": [
        {
          "output_type": "stream",
          "name": "stdout",
          "text": [
            "Hi Isha, good morning!\n"
          ]
        }
      ]
    },
    {
      "cell_type": "code",
      "source": [
        "#find even items out of a list\n",
        "items = [47, 25, 22, 12, 36, 56, 98, 54, 78, 58, 13]\n",
        "\n",
        "def even_item(items):\n",
        "    even = []\n",
        "    for i in items:\n",
        "        if i%2 == 0:\n",
        "            even.append(i)\n",
        "    return even"
      ],
      "metadata": {
        "id": "nlgKEGxA6_cC"
      },
      "execution_count": null,
      "outputs": []
    },
    {
      "cell_type": "code",
      "source": [
        "result = even_item(items)\n",
        "print(result)"
      ],
      "metadata": {
        "colab": {
          "base_uri": "https://localhost:8080/"
        },
        "id": "Iwu4ORpO8OwN",
        "outputId": "136046f8-1eda-4ad4-d51b-06254fcf49cd"
      },
      "execution_count": null,
      "outputs": [
        {
          "output_type": "stream",
          "name": "stdout",
          "text": [
            "[22, 12, 36, 56, 98, 54, 78, 58]\n"
          ]
        }
      ]
    },
    {
      "cell_type": "code",
      "source": [
        "#Types of Arguments\n",
        "#1. Required Positional Arguments (default)\n",
        "\n",
        "def func1(name, age):\n",
        "    print(f\"Hi {name}, you are {age} years old.\")"
      ],
      "metadata": {
        "id": "gGqhBOSsRa92"
      },
      "execution_count": null,
      "outputs": []
    },
    {
      "cell_type": "code",
      "source": [
        "uname = input(\"Enter your name: \")\n",
        "uage = int(input(\"Enter your age: \"))\n",
        "\n",
        "func1(uname, uage)"
      ],
      "metadata": {
        "colab": {
          "base_uri": "https://localhost:8080/"
        },
        "id": "I7pE_n3vSDDd",
        "outputId": "f78c2040-51a3-4be4-c8c2-e8ee544487c4"
      },
      "execution_count": null,
      "outputs": [
        {
          "output_type": "stream",
          "name": "stdout",
          "text": [
            "Enter your name: Isha\n",
            "Enter your age: 24\n",
            "Hi Isha, you are 24 years old.\n"
          ]
        }
      ]
    },
    {
      "cell_type": "code",
      "source": [
        "#2. Key-word arguments\n",
        "uname = input(\"Enter your name: \")\n",
        "uage = int(input(\"Enter your age: \"))\n",
        "\n",
        "#func1(name=uname, age=uage)\n",
        "func1(age=uage, name=uname)"
      ],
      "metadata": {
        "colab": {
          "base_uri": "https://localhost:8080/"
        },
        "id": "Fa8QclhXSZN3",
        "outputId": "4778330e-6d9c-487f-cf67-dedb8c802e69"
      },
      "execution_count": null,
      "outputs": [
        {
          "output_type": "stream",
          "name": "stdout",
          "text": [
            "Enter your name: Isha\n",
            "Enter your age: 36\n",
            "Hi Isha, you are 36 years old.\n"
          ]
        }
      ]
    },
    {
      "cell_type": "code",
      "source": [
        "#3. Arbitrary Arguments\n",
        "def func2(*names):\n",
        "    for name in names:\n",
        "        print(f\"Hi {name}, have a good day!\")"
      ],
      "metadata": {
        "id": "LiydC5ufUMnV"
      },
      "execution_count": null,
      "outputs": []
    },
    {
      "cell_type": "code",
      "source": [
        "func2(\"Isha\", \"Aryan\", \"Soma\", \"Lulu\", \"Mita\", \"Amar\")"
      ],
      "metadata": {
        "colab": {
          "base_uri": "https://localhost:8080/"
        },
        "id": "3qSSN6rTUjHH",
        "outputId": "11f54c3a-01dd-4b47-a2fe-28ea94de360f"
      },
      "execution_count": null,
      "outputs": [
        {
          "output_type": "stream",
          "name": "stdout",
          "text": [
            "Hi Isha, have a good day!\n",
            "Hi Aryan, have a good day!\n",
            "Hi Soma, have a good day!\n",
            "Hi Lulu, have a good day!\n",
            "Hi Mita, have a good day!\n",
            "Hi Amar, have a good day!\n"
          ]
        }
      ]
    },
    {
      "cell_type": "code",
      "source": [
        "#4. Default Arguments\n",
        "def func3(name, age=25):\n",
        "    print(f\"Hi {name}, you are {age} years old.\")\n",
        "\n",
        "func3(\"Isha\")\n",
        "func3(\"Isha\", 24)"
      ],
      "metadata": {
        "colab": {
          "base_uri": "https://localhost:8080/"
        },
        "id": "hGqCIps4VLDO",
        "outputId": "d7144b3d-e4b3-4a1f-a820-18bfe00b8931"
      },
      "execution_count": null,
      "outputs": [
        {
          "output_type": "stream",
          "name": "stdout",
          "text": [
            "Hi Isha, you are 25 years old.\n",
            "Hi Isha, you are 24 years old.\n"
          ]
        }
      ]
    },
    {
      "cell_type": "code",
      "source": [
        "def func4(name, age):\n",
        "    print(f\"Hi {name}, you are {age} years old.\")\n",
        "\n",
        "uname = input(\"Enter your name: \")\n",
        "uage = int(input(\"Enter your age: \"))\n",
        "\n",
        "func4(uname, age=uage)\n",
        "#func4(name=uname, uage) #Positional arguments should not follow keyword argument"
      ],
      "metadata": {
        "colab": {
          "base_uri": "https://localhost:8080/"
        },
        "id": "a4BUETJzWv-6",
        "outputId": "e25fae53-9042-459a-eff7-c1d34438d9b0"
      },
      "execution_count": null,
      "outputs": [
        {
          "output_type": "stream",
          "name": "stdout",
          "text": [
            "Enter your name: Isha\n",
            "Enter your age: 24\n",
            "Hi Isha, you are 24 years old.\n"
          ]
        }
      ]
    },
    {
      "cell_type": "markdown",
      "source": [
        "**Python Lambda Functions**\n",
        "\n",
        "Small and restricted: only one line body, no name, default return (anonymous functions)"
      ],
      "metadata": {
        "id": "fGWDmE57YVHq"
      }
    },
    {
      "cell_type": "code",
      "source": [
        "#Syntax\n",
        "#Lambda arguments: expression(argument_values)\n",
        "\n",
        "def add(num1, num2):\n",
        "    result = num1+num2\n",
        "    return result\n",
        "\n",
        "print(add(2,4))"
      ],
      "metadata": {
        "colab": {
          "base_uri": "https://localhost:8080/"
        },
        "id": "FzbYvEd9Yxg5",
        "outputId": "7f906f8e-057c-4528-f90f-29190f80abdc"
      },
      "execution_count": null,
      "outputs": [
        {
          "output_type": "stream",
          "name": "stdout",
          "text": [
            "6\n"
          ]
        }
      ]
    },
    {
      "cell_type": "code",
      "source": [
        "#Lambda Function\n",
        "print((lambda num1, num2: num1+num2)(4,6)) #method-1\n",
        "\n",
        "var = lambda num1, num2: num1+num2\n",
        "print(var(3,5)) #method-2"
      ],
      "metadata": {
        "colab": {
          "base_uri": "https://localhost:8080/"
        },
        "id": "ZyCc2YFuZcuv",
        "outputId": "be34cd96-017d-407a-bcf6-81d3970d600b"
      },
      "execution_count": null,
      "outputs": [
        {
          "output_type": "stream",
          "name": "stdout",
          "text": [
            "10\n",
            "8\n"
          ]
        }
      ]
    },
    {
      "cell_type": "code",
      "source": [
        "#Advance function: filter(), map(), reduce()\n",
        "#Pass lambda as arguments\n",
        "\n",
        "items = [1,2,3,4,5,6,7,8,9,0]\n",
        "\n",
        "def even_item(lst):\n",
        "    even=[]\n",
        "    for i in lst:\n",
        "        if i%2 == 0:\n",
        "            even.append(i)\n",
        "    return even"
      ],
      "metadata": {
        "id": "SpaFXbejbDRl"
      },
      "execution_count": null,
      "outputs": []
    },
    {
      "cell_type": "code",
      "source": [
        "# Filter() -> filter(lambda expression, items)\n",
        "even = filter(lambda i: i%2==0, items)\n",
        "odd = filter(lambda i: i%2 != 0, items)\n",
        "print(list(even))\n",
        "print(list(odd))"
      ],
      "metadata": {
        "colab": {
          "base_uri": "https://localhost:8080/"
        },
        "id": "sSjUEMLubeuw",
        "outputId": "f6d61c04-68b6-4668-8a5e-cd89f06fb890"
      },
      "execution_count": null,
      "outputs": [
        {
          "output_type": "stream",
          "name": "stdout",
          "text": [
            "[2, 4, 6, 8, 0]\n",
            "[1, 3, 5, 7, 9]\n"
          ]
        }
      ]
    },
    {
      "cell_type": "code",
      "source": [
        "# Map() -> map(lambda expression, items)\n",
        "items = [1,2,3,4,5,6,7,8,9,0]\n",
        "\n",
        "cube = map(lambda i: i**3, items)\n",
        "print(list(cube))"
      ],
      "metadata": {
        "id": "haX7SjtqcnPT",
        "colab": {
          "base_uri": "https://localhost:8080/"
        },
        "outputId": "e92961c1-e12a-4384-d566-2a4a471c2279"
      },
      "execution_count": null,
      "outputs": [
        {
          "output_type": "stream",
          "name": "stdout",
          "text": [
            "[1, 8, 27, 64, 125, 216, 343, 512, 729, 0]\n"
          ]
        }
      ]
    },
    {
      "cell_type": "code",
      "source": [
        "# Reduce() -> (Aggregations: sum, avg)\n",
        "\n",
        "from functools import reduce\n",
        "sales = [1000, 2000, 3000, 4000, 5000]\n",
        "\n",
        "sum = reduce(lambda a,b: a+b, sales)\n",
        "cum_avg = reduce(lambda a,b: (a+b)/2, sales)\n",
        "actual_avg = reduce(lambda a,b: sum/2, sales)\n",
        "\n",
        "print(\"Total Sales: \", sum)\n",
        "print(\"Average Cumulative Sales per day: \", cum_avg)\n",
        "print(\"Average Sales per day: \", actual_avg)"
      ],
      "metadata": {
        "id": "SDufdILdcz9Q",
        "colab": {
          "base_uri": "https://localhost:8080/"
        },
        "outputId": "e4e704f7-4a4d-437a-9cba-859db2c7fbed"
      },
      "execution_count": null,
      "outputs": [
        {
          "output_type": "stream",
          "name": "stdout",
          "text": [
            "Total Sales:  15000\n",
            "Average Cumulative Sales per day:  4062.5\n",
            "Average Sales per day:  7500.0\n"
          ]
        }
      ]
    },
    {
      "cell_type": "markdown",
      "source": [
        "**Exception Handling**\n",
        "\n",
        "Try, Except, Finally, Else"
      ],
      "metadata": {
        "id": "BGU4lf0LnE2s"
      }
    },
    {
      "cell_type": "code",
      "source": [
        "var1 = int(input(\"Enter var1: \"))\n",
        "var2 = int(input(\"Enter var2: \"))\n",
        "print(var1/var2)"
      ],
      "metadata": {
        "colab": {
          "base_uri": "https://localhost:8080/"
        },
        "id": "9iATKqZcnJp7",
        "outputId": "2af1962c-55f1-4429-ae06-21d7932b0782"
      },
      "execution_count": null,
      "outputs": [
        {
          "output_type": "stream",
          "name": "stdout",
          "text": [
            "Enter var1: 4\n",
            "Enter var2: 2\n",
            "2.0\n"
          ]
        }
      ]
    },
    {
      "cell_type": "code",
      "source": [
        "import sys\n",
        "try:\n",
        "    var1 = int(input(\"Enter var1: \"))\n",
        "    var2 = int(input(\"Enter var2: \"))\n",
        "    print(var1/var2)\n",
        "except:\n",
        "    print(\"Invalid Input!\")\n",
        "    print(sys.exc_info()) #to get more details about the exception\n",
        "    print(\"Try Again!\")\n",
        "    var1 = int(input(\"Enter var1: \"))\n",
        "    var2 = int(input(\"Enter var2: \"))\n",
        "    print(var1/var2)"
      ],
      "metadata": {
        "colab": {
          "base_uri": "https://localhost:8080/"
        },
        "id": "5r8hXHO-olID",
        "outputId": "7777e1c2-8027-4026-ad46-8f3862729e3a"
      },
      "execution_count": null,
      "outputs": [
        {
          "output_type": "stream",
          "name": "stdout",
          "text": [
            "Enter var1: 4\n",
            "Enter var2: 0\n",
            "Invalid Input!\n",
            "(<class 'ZeroDivisionError'>, ZeroDivisionError('division by zero'), <traceback object at 0x792a2b76e880>)\n",
            "Try Again!\n",
            "Enter var1: 4\n",
            "Enter var2: 2\n",
            "2.0\n"
          ]
        }
      ]
    },
    {
      "cell_type": "code",
      "source": [
        "#Multiple except blocks\n",
        "import sys\n",
        "try:\n",
        "    var1 = int(input(\"Enter var1: \"))\n",
        "    var2 = int(input(\"Enter var2: \"))\n",
        "    print(var1/var2)\n",
        "except ValueError:\n",
        "    print(\"Invalid Input!\")\n",
        "except ZeroDivisionError:\n",
        "    print(\"Cannot divide by zero!\")\n",
        "except:\n",
        "    print(\"Something else went wrong!\")\n",
        "    print(sys.exc_info())"
      ],
      "metadata": {
        "colab": {
          "base_uri": "https://localhost:8080/"
        },
        "id": "EmH_KT_Bo9xv",
        "outputId": "ac851e07-f6ca-459a-89ac-70e751e08bda"
      },
      "execution_count": null,
      "outputs": [
        {
          "output_type": "stream",
          "name": "stdout",
          "text": [
            "Enter var1: 4\n",
            "Enter var2: 0\n",
            "Cannot divide by zero!\n"
          ]
        }
      ]
    },
    {
      "cell_type": "code",
      "source": [
        "import sys\n",
        "try:\n",
        "    var1 = int(input(\"Enter var1: \"))\n",
        "    var2 = int(input(\"Enter var2: \"))\n",
        "    print(var1/var2)\n",
        "except:\n",
        "    print(\"Invalid Input!\")\n",
        "    print(sys.exc_info()) #to get more details about the exception\n",
        "    print(\"Try Again!\")\n",
        "    var1 = int(input(\"Enter var1: \"))\n",
        "    var2 = int(input(\"Enter var2: \"))\n",
        "    print(var1/var2)\n",
        "else:\n",
        "    print(\"No exceptions!\")\n",
        "finally:\n",
        "    print(\"Thank you, I am checking if finally works or not and I guess it does!\")\n"
      ],
      "metadata": {
        "colab": {
          "base_uri": "https://localhost:8080/"
        },
        "id": "aptelM3Yr6Yi",
        "outputId": "a04dee52-7ce3-4a5f-b925-af74e44cc4cf"
      },
      "execution_count": null,
      "outputs": [
        {
          "output_type": "stream",
          "name": "stdout",
          "text": [
            "Enter var1: 4\n",
            "Enter var2: 2\n",
            "2.0\n",
            "No exceptions!\n",
            "Thank you, I am checking if finally works or not and I guess it does!\n"
          ]
        }
      ]
    },
    {
      "cell_type": "markdown",
      "source": [
        "Working with Libraries/Modules\n",
        "\n",
        "Module: predefined collection of functions/classes related to specific tasks.\n",
        "\n",
        "Types of Modules:\n",
        "1. Built-in Modules (sys, random, math etc.)\n",
        "2. Third Party/External Modules (numpy, pandas, sklearn etc.)\n",
        "3. Custom Modules"
      ],
      "metadata": {
        "id": "hXR_2INlwVrY"
      }
    },
    {
      "cell_type": "code",
      "source": [
        "import math\n",
        "print(math.factorial(4))"
      ],
      "metadata": {
        "colab": {
          "base_uri": "https://localhost:8080/"
        },
        "id": "mRmhRIlTxAco",
        "outputId": "46df83c5-5739-4d5a-dcef-8cff138082ab"
      },
      "execution_count": null,
      "outputs": [
        {
          "output_type": "stream",
          "name": "stdout",
          "text": [
            "24\n"
          ]
        }
      ]
    },
    {
      "cell_type": "code",
      "source": [
        "from math import sqrt, floor\n",
        "print(sqrt(16))\n",
        "print(floor(4.5))"
      ],
      "metadata": {
        "colab": {
          "base_uri": "https://localhost:8080/"
        },
        "id": "o39t5iKYy2D9",
        "outputId": "91ec5f86-ec46-481c-82e1-f978187850b1"
      },
      "execution_count": null,
      "outputs": [
        {
          "output_type": "stream",
          "name": "stdout",
          "text": [
            "4.0\n",
            "4\n"
          ]
        }
      ]
    },
    {
      "cell_type": "code",
      "source": [
        "import random\n",
        "num = random.randint(1,100)\n",
        "print(num)"
      ],
      "metadata": {
        "colab": {
          "base_uri": "https://localhost:8080/"
        },
        "id": "fFiBFSIRzaCD",
        "outputId": "dc049e9d-c5fc-475a-ef79-300ae1f2e714"
      },
      "execution_count": null,
      "outputs": [
        {
          "output_type": "stream",
          "name": "stdout",
          "text": [
            "90\n"
          ]
        }
      ]
    },
    {
      "cell_type": "markdown",
      "source": [
        "Usefull Built-in Modules: sys, os, random, math, string, datetime"
      ],
      "metadata": {
        "id": "7nJXf4NAzhCc"
      }
    },
    {
      "cell_type": "code",
      "source": [
        "#Installing third-party modules\n",
        "!pip install pandas"
      ],
      "metadata": {
        "colab": {
          "base_uri": "https://localhost:8080/"
        },
        "id": "KhSScUPqzsgs",
        "outputId": "63c5c4c4-6727-4be4-d465-0a42a7386612"
      },
      "execution_count": null,
      "outputs": [
        {
          "output_type": "stream",
          "name": "stdout",
          "text": [
            "Requirement already satisfied: pandas in /usr/local/lib/python3.11/dist-packages (2.2.2)\n",
            "Requirement already satisfied: numpy>=1.23.2 in /usr/local/lib/python3.11/dist-packages (from pandas) (2.0.2)\n",
            "Requirement already satisfied: python-dateutil>=2.8.2 in /usr/local/lib/python3.11/dist-packages (from pandas) (2.9.0.post0)\n",
            "Requirement already satisfied: pytz>=2020.1 in /usr/local/lib/python3.11/dist-packages (from pandas) (2025.2)\n",
            "Requirement already satisfied: tzdata>=2022.7 in /usr/local/lib/python3.11/dist-packages (from pandas) (2025.2)\n",
            "Requirement already satisfied: six>=1.5 in /usr/local/lib/python3.11/dist-packages (from python-dateutil>=2.8.2->pandas) (1.17.0)\n"
          ]
        }
      ]
    },
    {
      "cell_type": "code",
      "source": [],
      "metadata": {
        "id": "yG9TOPOU1V6O"
      },
      "execution_count": null,
      "outputs": []
    }
  ]
}