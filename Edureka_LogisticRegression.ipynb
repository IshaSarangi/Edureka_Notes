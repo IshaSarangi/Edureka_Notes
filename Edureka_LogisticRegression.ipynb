{
  "nbformat": 4,
  "nbformat_minor": 0,
  "metadata": {
    "colab": {
      "provenance": [],
      "authorship_tag": "ABX9TyNANV/1SR8x3IkqKff8fH5E",
      "include_colab_link": true
    },
    "kernelspec": {
      "name": "python3",
      "display_name": "Python 3"
    },
    "language_info": {
      "name": "python"
    }
  },
  "cells": [
    {
      "cell_type": "markdown",
      "metadata": {
        "id": "view-in-github",
        "colab_type": "text"
      },
      "source": [
        "<a href=\"https://colab.research.google.com/github/IshaSarangi/Edureka_Notes/blob/main/Edureka_LogisticRegression.ipynb\" target=\"_parent\"><img src=\"https://colab.research.google.com/assets/colab-badge.svg\" alt=\"Open In Colab\"/></a>"
      ]
    },
    {
      "cell_type": "markdown",
      "source": [
        "Why is logistic regression -> classification?\n",
        "\n",
        "Logistic: S-shaped curve -> Sigmoid Function -> Logic Function -> This function maps any number (from -∞ to +∞) to a value between 0 and 1 — which can be interpreted as a probability.\n",
        "\n",
        "Regression: Probalistic classifier -> Because the model is based on linear regression math — it computes a linear combination of input features (like β₀ + β₁x₁ + β₂x₂), then applies the logistic function to it."
      ],
      "metadata": {
        "id": "7KoCapaZvI3K"
      }
    },
    {
      "cell_type": "code",
      "execution_count": null,
      "metadata": {
        "id": "piQBxqPctmXQ"
      },
      "outputs": [],
      "source": []
    }
  ]
}