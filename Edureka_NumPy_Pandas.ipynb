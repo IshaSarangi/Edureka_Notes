{
  "nbformat": 4,
  "nbformat_minor": 0,
  "metadata": {
    "colab": {
      "provenance": [],
      "authorship_tag": "ABX9TyOCtzfFYKF4ZpJcKKB7Alfl",
      "include_colab_link": true
    },
    "kernelspec": {
      "name": "python3",
      "display_name": "Python 3"
    },
    "language_info": {
      "name": "python"
    }
  },
  "cells": [
    {
      "cell_type": "markdown",
      "metadata": {
        "id": "view-in-github",
        "colab_type": "text"
      },
      "source": [
        "<a href=\"https://colab.research.google.com/github/IshaSarangi/Edureka_Notes/blob/main/Edureka_NumPy_Pandas.ipynb\" target=\"_parent\"><img src=\"https://colab.research.google.com/assets/colab-badge.svg\" alt=\"Open In Colab\"/></a>"
      ]
    },
    {
      "cell_type": "markdown",
      "source": [
        "# **NumPy**"
      ],
      "metadata": {
        "id": "wyYmrroJw_by"
      }
    },
    {
      "cell_type": "code",
      "execution_count": null,
      "metadata": {
        "colab": {
          "base_uri": "https://localhost:8080/"
        },
        "id": "0fVxOvFzeDnQ",
        "outputId": "2815ce31-9c7c-481f-e864-86da5a3dd64e"
      },
      "outputs": [
        {
          "output_type": "stream",
          "name": "stdout",
          "text": [
            "<class 'numpy.ndarray'>\n",
            "[1 2 3 4 5 6]\n",
            "int64\n",
            "(6,)\n",
            "6\n",
            "1\n"
          ]
        }
      ],
      "source": [
        "import numpy as np\n",
        "#creating an array\n",
        "ar1 = np.array([1,2,3,4,5,6])\n",
        "\n",
        "print(type(ar1))\n",
        "print(ar1)\n",
        "\n",
        "print(ar1.dtype)\n",
        "print(ar1.shape)\n",
        "print(ar1.size) #number of elements\n",
        "print(ar1.ndim)"
      ]
    },
    {
      "cell_type": "code",
      "source": [
        "ar2 = np.array([1,2,3,4,5,6, 'abc'])\n",
        "print(type(ar2))\n",
        "print(ar2) #all data converted to string"
      ],
      "metadata": {
        "colab": {
          "base_uri": "https://localhost:8080/"
        },
        "id": "SRhfvatXiV9a",
        "outputId": "97d314e6-f2b8-4439-b67e-8ce8e367ce02"
      },
      "execution_count": null,
      "outputs": [
        {
          "output_type": "stream",
          "name": "stdout",
          "text": [
            "<class 'numpy.ndarray'>\n",
            "['1' '2' '3' '4' '5' '6' 'abc']\n"
          ]
        }
      ]
    },
    {
      "cell_type": "code",
      "source": [
        "#arange() -> output is a numpy array while range() -> output is a list\n",
        "ar3 = np.arange(1, 11)\n",
        "print(ar3)"
      ],
      "metadata": {
        "colab": {
          "base_uri": "https://localhost:8080/"
        },
        "id": "GWbao-2ijRQg",
        "outputId": "61457474-936e-4a86-d001-402c19a5a6dc"
      },
      "execution_count": null,
      "outputs": [
        {
          "output_type": "stream",
          "name": "stdout",
          "text": [
            "[ 1  2  3  4  5  6  7  8  9 10]\n"
          ]
        }
      ]
    },
    {
      "cell_type": "code",
      "source": [
        "ar = np.array([1,2,3,4,5,6])\n",
        "print(ar[-1])"
      ],
      "metadata": {
        "colab": {
          "base_uri": "https://localhost:8080/"
        },
        "id": "mUyriPO4j2AS",
        "outputId": "b60a4052-c702-4bda-c42a-50f4b24c2f5f"
      },
      "execution_count": null,
      "outputs": [
        {
          "output_type": "stream",
          "name": "stdout",
          "text": [
            "6\n"
          ]
        }
      ]
    },
    {
      "cell_type": "code",
      "source": [
        "#2-Dimensional array\n",
        "ar = np.array([[1,2,3],[4,5,6],[7,8,9]])\n",
        "print(ar)\n",
        "print(ar.shape) #rows, columns\n",
        "print(ar.ndim)\n",
        "print(ar.size)"
      ],
      "metadata": {
        "colab": {
          "base_uri": "https://localhost:8080/"
        },
        "id": "2bHcOem5kDyI",
        "outputId": "f563c406-c2ac-4f79-8f1d-7203c91a11f3"
      },
      "execution_count": null,
      "outputs": [
        {
          "output_type": "stream",
          "name": "stdout",
          "text": [
            "[[1 2 3]\n",
            " [4 5 6]\n",
            " [7 8 9]]\n",
            "(3, 3)\n",
            "2\n",
            "9\n"
          ]
        }
      ]
    },
    {
      "cell_type": "code",
      "source": [
        "print(ar[-1][-1])\n",
        "print(ar[1][2])"
      ],
      "metadata": {
        "colab": {
          "base_uri": "https://localhost:8080/"
        },
        "id": "CU3r2xaVlGUJ",
        "outputId": "208c1a76-d6a3-4f40-a80c-20e32fb4ab36"
      },
      "execution_count": null,
      "outputs": [
        {
          "output_type": "stream",
          "name": "stdout",
          "text": [
            "9\n",
            "6\n"
          ]
        }
      ]
    },
    {
      "cell_type": "code",
      "source": [
        "for i in np.nditer(ar): #n-dimensional iterator: allows to read data element wise\n",
        "    print(i)"
      ],
      "metadata": {
        "colab": {
          "base_uri": "https://localhost:8080/"
        },
        "id": "G8ByrRQxm3ml",
        "outputId": "61f6403f-5ad1-4728-bbf0-74ceb5cf1296"
      },
      "execution_count": null,
      "outputs": [
        {
          "output_type": "stream",
          "name": "stdout",
          "text": [
            "1\n",
            "2\n",
            "3\n",
            "4\n",
            "5\n",
            "6\n",
            "7\n",
            "8\n",
            "9\n"
          ]
        }
      ]
    },
    {
      "cell_type": "code",
      "source": [
        "#Matrix multiplication\n",
        "ar1 = np.array([[1,2,3],[4,5,6]])\n",
        "ar2 = np.array([[10,11],[20,21],[30,31]])\n",
        "print(ar1)\n",
        "print(ar2)"
      ],
      "metadata": {
        "colab": {
          "base_uri": "https://localhost:8080/"
        },
        "id": "y8_-u7gBnM6d",
        "outputId": "a86ca7cc-b655-48c6-c0cb-5d7e9d61b34f"
      },
      "execution_count": null,
      "outputs": [
        {
          "output_type": "stream",
          "name": "stdout",
          "text": [
            "[[1 2 3]\n",
            " [4 5 6]]\n",
            "[[10 11]\n",
            " [20 21]\n",
            " [30 31]]\n"
          ]
        }
      ]
    },
    {
      "cell_type": "code",
      "source": [
        "ar_mul = np.dot(ar1, ar2)\n",
        "print(ar_mul)"
      ],
      "metadata": {
        "colab": {
          "base_uri": "https://localhost:8080/"
        },
        "id": "HjYkRJmUoD9f",
        "outputId": "59358fe0-4923-41f6-e761-0a0731b164f4"
      },
      "execution_count": null,
      "outputs": [
        {
          "output_type": "stream",
          "name": "stdout",
          "text": [
            "[[140 146]\n",
            " [320 335]]\n"
          ]
        }
      ]
    },
    {
      "cell_type": "code",
      "source": [
        "marks = np.array([45, 96, 85, 67, 78, 45, 90, 56, 57, 97, 90, 85, 84, 67])\n",
        "print(\"Sum: \", marks.sum())\n",
        "print(\"Highest Marks: \", marks.max())\n",
        "print(\"Lowest Marks: \", marks.min())\n",
        "print(\"Average Marks: \", marks.mean())\n",
        "print(\"Median: \", np.median(marks))\n",
        "print(\"Standard Deviation: \", marks.std())\n",
        "print(\"Variance: \", marks.var())"
      ],
      "metadata": {
        "colab": {
          "base_uri": "https://localhost:8080/"
        },
        "id": "BIWZ_1OCokZb",
        "outputId": "c6d992fa-adec-46e2-8a2c-2a4faeeb1383"
      },
      "execution_count": null,
      "outputs": [
        {
          "output_type": "stream",
          "name": "stdout",
          "text": [
            "Sum:  1042\n",
            "Highest Marks:  97\n",
            "Lowest Marks:  45\n",
            "Average Marks:  74.42857142857143\n",
            "Median:  81.0\n",
            "Standard Deviation:  17.47125919787076\n",
            "Variance:  305.2448979591837\n"
          ]
        }
      ]
    },
    {
      "cell_type": "code",
      "source": [
        "#Broadcasting Arthimetical Operations\n",
        "lst = [10, 20, 30]\n",
        "print(lst * 3)\n",
        "\n",
        "ar = np.array([10, 20, 30])\n",
        "print(ar * 3)"
      ],
      "metadata": {
        "colab": {
          "base_uri": "https://localhost:8080/"
        },
        "id": "TfOYxOl5pUNQ",
        "outputId": "220d30cd-5078-4708-c420-11fc92a5b52a"
      },
      "execution_count": null,
      "outputs": [
        {
          "output_type": "stream",
          "name": "stdout",
          "text": [
            "[10, 20, 30, 10, 20, 30, 10, 20, 30]\n",
            "[30 60 90]\n"
          ]
        }
      ]
    },
    {
      "cell_type": "markdown",
      "source": [
        "#**Pandas**\n",
        "\n",
        "Reading Data"
      ],
      "metadata": {
        "id": "CGcJdH4HxF40"
      }
    },
    {
      "cell_type": "code",
      "source": [
        "#Import and Export\n",
        "#Common file types: csv, excel, JSON\n",
        "\n",
        "#Import Functions: read_csv(), read_excel(), read_json()\n",
        "#Export Functions: to_csv(), to_excel(), to_json()\n",
        "\n",
        "import pandas as pd"
      ],
      "metadata": {
        "id": "ao7ZSEGiyvQt"
      },
      "execution_count": null,
      "outputs": []
    },
    {
      "cell_type": "code",
      "source": [
        "df = pd.read_csv('/content/Social_Network_Ads.csv')\n",
        "# df = pd.read_csv('/content/Social_Network_Ads.csv', index_col=\"User ID\")\n",
        "print(df)"
      ],
      "metadata": {
        "colab": {
          "base_uri": "https://localhost:8080/"
        },
        "id": "ehYCqKwN01Ef",
        "outputId": "7743dc72-6b98-4417-8673-1f8cb1229a10"
      },
      "execution_count": null,
      "outputs": [
        {
          "output_type": "stream",
          "name": "stdout",
          "text": [
            "      User ID  Gender  Age  EstimatedSalary  Purchased\n",
            "0    15624510    Male   19            19000          0\n",
            "1    15810944    Male   35            20000          0\n",
            "2    15668575  Female   26            43000          0\n",
            "3    15603246  Female   27            57000          0\n",
            "4    15804002    Male   19            76000          0\n",
            "..        ...     ...  ...              ...        ...\n",
            "395  15691863  Female   46            41000          1\n",
            "396  15706071    Male   51            23000          1\n",
            "397  15654296  Female   50            20000          1\n",
            "398  15755018    Male   36            33000          0\n",
            "399  15594041  Female   49            36000          1\n",
            "\n",
            "[400 rows x 5 columns]\n"
          ]
        }
      ]
    },
    {
      "cell_type": "code",
      "source": [
        "print(df.info())"
      ],
      "metadata": {
        "colab": {
          "base_uri": "https://localhost:8080/"
        },
        "id": "J9jAUF5F1o40",
        "outputId": "ad278819-a551-477c-92ec-508653249ac9"
      },
      "execution_count": null,
      "outputs": [
        {
          "output_type": "stream",
          "name": "stdout",
          "text": [
            "<class 'pandas.core.frame.DataFrame'>\n",
            "RangeIndex: 400 entries, 0 to 399\n",
            "Data columns (total 5 columns):\n",
            " #   Column           Non-Null Count  Dtype \n",
            "---  ------           --------------  ----- \n",
            " 0   User ID          400 non-null    int64 \n",
            " 1   Gender           400 non-null    object\n",
            " 2   Age              400 non-null    int64 \n",
            " 3   EstimatedSalary  400 non-null    int64 \n",
            " 4   Purchased        400 non-null    int64 \n",
            "dtypes: int64(4), object(1)\n",
            "memory usage: 15.8+ KB\n",
            "None\n"
          ]
        }
      ]
    },
    {
      "cell_type": "code",
      "source": [
        "print(df.describe())"
      ],
      "metadata": {
        "colab": {
          "base_uri": "https://localhost:8080/"
        },
        "id": "1wCLp0SD1zRs",
        "outputId": "214ee282-3e86-48eb-ad88-b1603fdcb2a6"
      },
      "execution_count": null,
      "outputs": [
        {
          "output_type": "stream",
          "name": "stdout",
          "text": [
            "            User ID         Age  EstimatedSalary   Purchased\n",
            "count  4.000000e+02  400.000000       400.000000  400.000000\n",
            "mean   1.569154e+07   37.655000     69742.500000    0.357500\n",
            "std    7.165832e+04   10.482877     34096.960282    0.479864\n",
            "min    1.556669e+07   18.000000     15000.000000    0.000000\n",
            "25%    1.562676e+07   29.750000     43000.000000    0.000000\n",
            "50%    1.569434e+07   37.000000     70000.000000    0.000000\n",
            "75%    1.575036e+07   46.000000     88000.000000    1.000000\n",
            "max    1.581524e+07   60.000000    150000.000000    1.000000\n"
          ]
        }
      ]
    },
    {
      "cell_type": "code",
      "source": [
        "#setup custom index\n",
        "\n",
        "df.set_index(\"User ID\", inplace = True)\n",
        "print(df)"
      ],
      "metadata": {
        "colab": {
          "base_uri": "https://localhost:8080/"
        },
        "id": "scUXIU712tPg",
        "outputId": "5c396741-cb12-4455-b72a-b30efeef6cf4"
      },
      "execution_count": null,
      "outputs": [
        {
          "output_type": "stream",
          "name": "stdout",
          "text": [
            "          Gender  Age  EstimatedSalary  Purchased\n",
            "User ID                                          \n",
            "15624510    Male   19            19000          0\n",
            "15810944    Male   35            20000          0\n",
            "15668575  Female   26            43000          0\n",
            "15603246  Female   27            57000          0\n",
            "15804002    Male   19            76000          0\n",
            "...          ...  ...              ...        ...\n",
            "15691863  Female   46            41000          1\n",
            "15706071    Male   51            23000          1\n",
            "15654296  Female   50            20000          1\n",
            "15755018    Male   36            33000          0\n",
            "15594041  Female   49            36000          1\n",
            "\n",
            "[400 rows x 4 columns]\n"
          ]
        }
      ]
    },
    {
      "cell_type": "markdown",
      "source": [
        "Selections: Specific columns and rows"
      ],
      "metadata": {
        "id": "Z2Uuyy2l5RU6"
      }
    },
    {
      "cell_type": "code",
      "source": [
        "print(df['EstimatedSalary'])"
      ],
      "metadata": {
        "colab": {
          "base_uri": "https://localhost:8080/"
        },
        "id": "7rs9wBTc5T5_",
        "outputId": "7c9d1b75-2f18-44a8-afcd-5c395ff698e9"
      },
      "execution_count": null,
      "outputs": [
        {
          "output_type": "stream",
          "name": "stdout",
          "text": [
            "User ID\n",
            "15624510    19000\n",
            "15810944    20000\n",
            "15668575    43000\n",
            "15603246    57000\n",
            "15804002    76000\n",
            "            ...  \n",
            "15691863    41000\n",
            "15706071    23000\n",
            "15654296    20000\n",
            "15755018    33000\n",
            "15594041    36000\n",
            "Name: EstimatedSalary, Length: 400, dtype: int64\n"
          ]
        }
      ]
    },
    {
      "cell_type": "code",
      "source": [
        "print(df.Age)"
      ],
      "metadata": {
        "colab": {
          "base_uri": "https://localhost:8080/"
        },
        "id": "r8AzOS325fBw",
        "outputId": "9c06f1e5-aea5-4bfe-c753-ceea4d944e99"
      },
      "execution_count": null,
      "outputs": [
        {
          "output_type": "stream",
          "name": "stdout",
          "text": [
            "User ID\n",
            "15624510    19\n",
            "15810944    35\n",
            "15668575    26\n",
            "15603246    27\n",
            "15804002    19\n",
            "            ..\n",
            "15691863    46\n",
            "15706071    51\n",
            "15654296    50\n",
            "15755018    36\n",
            "15594041    49\n",
            "Name: Age, Length: 400, dtype: int64\n"
          ]
        }
      ]
    },
    {
      "cell_type": "code",
      "source": [
        "#Selecting specific columns\n",
        "\n",
        "print(df[['Age', 'EstimatedSalary']])"
      ],
      "metadata": {
        "colab": {
          "base_uri": "https://localhost:8080/"
        },
        "id": "Qct5Arze5vPv",
        "outputId": "1b9db63e-7f30-4333-df74-4aa35f1e13f7"
      },
      "execution_count": null,
      "outputs": [
        {
          "output_type": "stream",
          "name": "stdout",
          "text": [
            "          Age  EstimatedSalary\n",
            "User ID                       \n",
            "15624510   19            19000\n",
            "15810944   35            20000\n",
            "15668575   26            43000\n",
            "15603246   27            57000\n",
            "15804002   19            76000\n",
            "...       ...              ...\n",
            "15691863   46            41000\n",
            "15706071   51            23000\n",
            "15654296   50            20000\n",
            "15755018   36            33000\n",
            "15594041   49            36000\n",
            "\n",
            "[400 rows x 2 columns]\n"
          ]
        }
      ]
    },
    {
      "cell_type": "code",
      "source": [
        "#Label Based: at[], loc[]\n",
        "#Condition Based: df[condition]"
      ],
      "metadata": {
        "id": "_VzmAujg6Rvc"
      },
      "execution_count": null,
      "outputs": []
    },
    {
      "cell_type": "code",
      "source": [
        "#at[row_index, column_label] -> only one index and one label\n",
        "\n",
        "print(df.at[15603246, 'EstimatedSalary'])"
      ],
      "metadata": {
        "colab": {
          "base_uri": "https://localhost:8080/"
        },
        "id": "rV09BXPb6fxp",
        "outputId": "aba657b6-2294-48de-de81-93e73bff4f50"
      },
      "execution_count": null,
      "outputs": [
        {
          "output_type": "stream",
          "name": "stdout",
          "text": [
            "57000\n"
          ]
        }
      ]
    },
    {
      "cell_type": "code",
      "source": [
        "#Update values\n",
        "\n",
        "df.at[15603246, 'EstimatedSalary'] = 62000 #new value\n",
        "print(df)"
      ],
      "metadata": {
        "colab": {
          "base_uri": "https://localhost:8080/"
        },
        "id": "65Cb-M6r68jo",
        "outputId": "667bf44a-ed63-4ed1-b97f-995e3b48900d"
      },
      "execution_count": null,
      "outputs": [
        {
          "output_type": "stream",
          "name": "stdout",
          "text": [
            "          Gender  Age  EstimatedSalary  Purchased\n",
            "User ID                                          \n",
            "15624510    Male   19            19000          0\n",
            "15810944    Male   35            20000          0\n",
            "15668575  Female   26            43000          0\n",
            "15603246  Female   27            62000          0\n",
            "15804002    Male   19            76000          0\n",
            "...          ...  ...              ...        ...\n",
            "15691863  Female   46            41000          1\n",
            "15706071    Male   51            23000          1\n",
            "15654296  Female   50            20000          1\n",
            "15755018    Male   36            33000          0\n",
            "15594041  Female   49            36000          1\n",
            "\n",
            "[400 rows x 4 columns]\n"
          ]
        }
      ]
    },
    {
      "cell_type": "code",
      "source": [
        "#loc[row_index_range, column_labels]\n",
        "\n",
        "print(df.loc[15624510:15804002, ['Gender', 'Age', 'Purchased']])"
      ],
      "metadata": {
        "colab": {
          "base_uri": "https://localhost:8080/"
        },
        "id": "hIL28IYf7cHO",
        "outputId": "bc300480-7407-4bce-fc12-890ebb3c5a61"
      },
      "execution_count": null,
      "outputs": [
        {
          "output_type": "stream",
          "name": "stdout",
          "text": [
            "          Gender  Age  Purchased\n",
            "User ID                         \n",
            "15624510    Male   19          0\n",
            "15810944    Male   35          0\n",
            "15668575  Female   26          0\n",
            "15603246  Female   27          0\n",
            "15804002    Male   19          0\n"
          ]
        }
      ]
    },
    {
      "cell_type": "code",
      "source": [
        "print(df.loc[15804002])"
      ],
      "metadata": {
        "colab": {
          "base_uri": "https://localhost:8080/"
        },
        "id": "yqfrPKJh8cOa",
        "outputId": "02c53196-fdd5-4e0f-94c9-c3099b37d670"
      },
      "execution_count": null,
      "outputs": [
        {
          "output_type": "stream",
          "name": "stdout",
          "text": [
            "Gender              Male\n",
            "Age                   19\n",
            "EstimatedSalary    76000\n",
            "Purchased              0\n",
            "Name: 15804002, dtype: object\n"
          ]
        }
      ]
    },
    {
      "cell_type": "code",
      "source": [
        "print(df.loc[[15804002, 15603246, 15624510], ['Age', 'EstimatedSalary']])"
      ],
      "metadata": {
        "colab": {
          "base_uri": "https://localhost:8080/"
        },
        "id": "o1XM7dak8uyN",
        "outputId": "428ca21a-4f7d-429a-83b6-c50f9b0b8b37"
      },
      "execution_count": null,
      "outputs": [
        {
          "output_type": "stream",
          "name": "stdout",
          "text": [
            "          Age  EstimatedSalary\n",
            "User ID                       \n",
            "15804002   19            76000\n",
            "15603246   27            62000\n",
            "15624510   19            19000\n"
          ]
        }
      ]
    },
    {
      "cell_type": "code",
      "source": [
        "#Conditional Selections\n",
        "\n",
        "print(df[(df['Age'] > 58) & (df['Gender'] == 'Female')])"
      ],
      "metadata": {
        "colab": {
          "base_uri": "https://localhost:8080/"
        },
        "id": "i-xDWiBe8-mr",
        "outputId": "43b71db2-2381-4831-e236-2db580aedf9e"
      },
      "execution_count": null,
      "outputs": [
        {
          "output_type": "stream",
          "name": "stdout",
          "text": [
            "          Gender  Age  EstimatedSalary  Purchased\n",
            "User ID                                          \n",
            "15605000  Female   59            83000          0\n",
            "15707596  Female   59            42000          0\n",
            "15779529  Female   60           108000          1\n",
            "15688172  Female   59            76000          1\n",
            "15609669  Female   59            88000          1\n",
            "15807525  Female   59            29000          1\n",
            "15611430  Female   60            46000          1\n"
          ]
        }
      ]
    },
    {
      "cell_type": "code",
      "source": [
        "#Random Sampling\n",
        "\n",
        "df_new = df.sample(5)\n",
        "print(df_new)"
      ],
      "metadata": {
        "colab": {
          "base_uri": "https://localhost:8080/"
        },
        "id": "B47T95Vb-UW7",
        "outputId": "858afa0a-a4f7-4eb7-bde2-ea6af48cd39e"
      },
      "execution_count": null,
      "outputs": [
        {
          "output_type": "stream",
          "name": "stdout",
          "text": [
            "          Gender  Age  EstimatedSalary  Purchased\n",
            "User ID                                          \n",
            "15746203  Female   47           144000          1\n",
            "15581198    Male   31            74000          0\n",
            "15776348  Female   27            54000          0\n",
            "15807909    Male   19            85000          0\n",
            "15721007  Female   42            80000          1\n"
          ]
        }
      ]
    },
    {
      "cell_type": "code",
      "source": [
        "#Export Data DF--->File\n",
        "\n",
        "df_new.to_excel(\"Selected_data.xlsx\")"
      ],
      "metadata": {
        "id": "PHmsrkY_-uzM"
      },
      "execution_count": null,
      "outputs": []
    },
    {
      "cell_type": "markdown",
      "source": [
        "\n",
        "1. https://www.kaggle.com/learn/pandas\n",
        "\n",
        "2. https://www.learndatasci.com/tutorials/python-pandas-tutorial-complete-introduction-for-beginners/\n",
        "\n",
        "3. https://github.com/KeithGalli/complete-pandas-tutorial\n",
        "\n",
        "4. https://youtu.be/UO98lJQ3QGI?list=PL-osiE80TeTvipOqomVEeZ1HRrcEvtZB_\n",
        "\n",
        "5. https://colab.research.google.com/drive/1HYNoa8Ed0VbxPpkFF0ERNfh6wQZAQ3PJ?usp=sharing\n",
        "\n",
        "6. https://colab.research.google.com/drive/1m2YFk1gH7w0Uqhb1mZTD5vgy42h0H9tR?usp=sharing"
      ],
      "metadata": {
        "id": "oy0Tf2WFCBOc"
      }
    }
  ]
}